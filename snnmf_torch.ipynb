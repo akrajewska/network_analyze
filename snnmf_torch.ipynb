{
 "cells": [
  {
   "cell_type": "code",
   "execution_count": 1,
   "outputs": [],
   "source": [
    "import pandas as pd\n",
    "from sklearn.decomposition import NMF\n",
    "from utils.process import prepare_df, data_arrays, data_tensors, LABELS\n",
    "from sklearn import metrics\n",
    "import numpy as np\n",
    "import seaborn as sns\n",
    "import matplotlib.pyplot as plt\n",
    "import torch\n",
    "from ssnmf.ssnmf import SSNMF_T\n",
    "from sklearn.model_selection import KFold, StratifiedKFold"
   ],
   "metadata": {
    "collapsed": false
   }
  },
  {
   "cell_type": "code",
   "execution_count": 2,
   "outputs": [
    {
     "data": {
      "text/plain": "Label\nBot                           3\nDDoS                        247\nDoS GoldenEye                22\nDoS Hulk                    416\nDoS Slowhttptest             11\nDoS slowloris                12\nFTP-Patator                  12\nPortScan                    260\nSSH-Patator                  11\nWeb Attack   Brute Force      4\nWeb Attack   XSS              2\nName: Label, dtype: int64"
     },
     "execution_count": 2,
     "metadata": {},
     "output_type": "execute_result"
    }
   ],
   "source": [
    "df = prepare_df()\n",
    "df = df[df['Label'] != 'BENIGN']\n",
    "df = df.sample(1000)\n",
    "df.groupby('Label')['Label'].count()"
   ],
   "metadata": {
    "collapsed": false
   }
  },
  {
   "cell_type": "code",
   "execution_count": 5,
   "outputs": [],
   "source": [
    "from ssnmf import SSNMF\n",
    "import random\n",
    "\n",
    "device = torch.device('cuda') if torch.cuda.is_available() else torch.device('cpu')\n",
    "\n",
    "\n",
    "def get_Y_torch(X, y):\n",
    "    y_unique = torch.unique(y)\n",
    "    sample_size = X.shape[1]\n",
    "    Y = torch.zeros(y_unique.shape[0], sample_size, device=device)\n",
    "    for i in range(sample_size):\n",
    "        j = ((y_unique == y[i]).nonzero(as_tuple=True)[0])\n",
    "        Y[j, i] = 1\n",
    "    return Y\n",
    "\n",
    "\n",
    "def get_L_torch(Y, fraction_known=0.5):\n",
    "    L = torch.zeros(Y.shape, device=device)\n",
    "    m, n = L.shape\n",
    "    num_samples = int(fraction_known * n)\n",
    "    print(num_samples)\n",
    "    labeled_data = torch.randperm(n, dtype=torch.int32, device=device)[:num_samples]\n",
    "    for i in labeled_data:\n",
    "        L[:,i] = torch.tensor(1)\n",
    "    return L\n",
    "\n",
    "#model = SSNMF(M_s,10, modelNum=1)"
   ],
   "metadata": {
    "collapsed": false
   }
  },
  {
   "cell_type": "code",
   "execution_count": 10,
   "outputs": [
    {
     "name": "stdout",
     "output_type": "stream",
     "text": [
      "499\n"
     ]
    },
    {
     "name": "stderr",
     "output_type": "stream",
     "text": [
      "/home/tosia/NASK/network_analyze_new/utils/process.py:77: SettingWithCopyWarning: \n",
      "A value is trying to be set on a copy of a slice from a DataFrame\n",
      "\n",
      "See the caveats in the documentation: https://pandas.pydata.org/pandas-docs/stable/user_guide/indexing.html#returning-a-view-versus-a-copy\n",
      "  df.replace([np.inf, -np.inf], np.nan, inplace=True)\n"
     ]
    }
   ],
   "source": [
    "import torch\n",
    "\n",
    "\n",
    "X, y = data_tensors(df)\n",
    "Y = get_Y_torch(X.T, y)\n",
    "L = get_L_torch(Y, fraction_known=0.5)\n",
    "snmf = SSNMF_T(X.T, 11, Y=Y, L=L, lam=1 * np.linalg.norm(X), modelNum=3, str='torch')\n",
    "snmf.mult(numiters=1000)\n",
    "y_pred = torch.argmax(snmf.S, axis=0)"
   ],
   "metadata": {
    "collapsed": false
   }
  },
  {
   "cell_type": "code",
   "execution_count": 11,
   "outputs": [
    {
     "data": {
      "text/plain": "0.7958585174360757"
     },
     "execution_count": 11,
     "metadata": {},
     "output_type": "execute_result"
    }
   ],
   "source": [
    "metrics.rand_score(y, y_pred)"
   ],
   "metadata": {
    "collapsed": false
   }
  },
  {
   "cell_type": "code",
   "execution_count": 6,
   "outputs": [
    {
     "data": {
      "text/plain": "tensor([[0., 0., 0.,  ..., 0., 0., 0.],\n        [0., 1., 1.,  ..., 0., 0., 0.],\n        [0., 0., 0.,  ..., 0., 0., 0.],\n        ...,\n        [0., 0., 0.,  ..., 0., 1., 0.],\n        [0., 0., 0.,  ..., 0., 0., 0.],\n        [0., 0., 0.,  ..., 0., 0., 0.]])"
     },
     "execution_count": 6,
     "metadata": {},
     "output_type": "execute_result"
    }
   ],
   "source": [
    "Y"
   ],
   "metadata": {
    "collapsed": false
   }
  },
  {
   "cell_type": "code",
   "execution_count": 12,
   "outputs": [
    {
     "name": "stderr",
     "output_type": "stream",
     "text": [
      "/home/tosia/.pyenv/versions/3.9.5/lib/python3.8/site-packages/sklearn/model_selection/_split.py:684: UserWarning: The least populated class in y has only 2 members, which is less than n_splits=5.\n",
      "  warnings.warn(\n"
     ]
    },
    {
     "name": "stdout",
     "output_type": "stream",
     "text": [
      "lambda 0 score 0.7323717146433041\n",
      "lambda 0 score 0.8102503128911139\n",
      "lambda 0 score 0.8070025031289111\n",
      "lambda 0 score 0.7240894868585732\n",
      "lambda 0 score 0.8081289111389236\n",
      "lambda 0.001 score 0.7485419274092616\n",
      "lambda 0.001 score 0.7476752190237798\n",
      "lambda 0.001 score 0.7254036295369212\n"
     ]
    },
    {
     "name": "stderr",
     "output_type": "stream",
     "text": [
      "/home/tosia/.pyenv/versions/3.9.5/lib/python3.8/site-packages/sklearn/model_selection/_split.py:684: UserWarning: The least populated class in y has only 2 members, which is less than n_splits=5.\n",
      "  warnings.warn(\n"
     ]
    },
    {
     "name": "stdout",
     "output_type": "stream",
     "text": [
      "lambda 0.001 score 0.7879192740926158\n",
      "lambda 0.001 score 0.8094430538172716\n",
      "lambda 0.5 score 0.9117021276595745\n"
     ]
    },
    {
     "name": "stderr",
     "output_type": "stream",
     "text": [
      "/home/tosia/.pyenv/versions/3.9.5/lib/python3.8/site-packages/sklearn/model_selection/_split.py:684: UserWarning: The least populated class in y has only 2 members, which is less than n_splits=5.\n",
      "  warnings.warn(\n"
     ]
    },
    {
     "name": "stdout",
     "output_type": "stream",
     "text": [
      "lambda 0.5 score 0.9126595744680851\n",
      "lambda 0.5 score 0.9855725907384231\n",
      "lambda 0.5 score 0.9944117647058823\n",
      "lambda 0.5 score 0.9114580725907384\n",
      "lambda 0.1 score 0.8400281602002503\n",
      "lambda 0.1 score 0.8659730913642053\n"
     ]
    },
    {
     "name": "stderr",
     "output_type": "stream",
     "text": [
      "/home/tosia/.pyenv/versions/3.9.5/lib/python3.8/site-packages/sklearn/model_selection/_split.py:684: UserWarning: The least populated class in y has only 2 members, which is less than n_splits=5.\n",
      "  warnings.warn(\n"
     ]
    },
    {
     "name": "stdout",
     "output_type": "stream",
     "text": [
      "lambda 0.1 score 0.8658291614518148\n",
      "lambda 0.1 score 0.9183416770963705\n",
      "lambda 0.1 score 0.8846433041301627\n"
     ]
    },
    {
     "name": "stderr",
     "output_type": "stream",
     "text": [
      "/home/tosia/.pyenv/versions/3.9.5/lib/python3.8/site-packages/sklearn/model_selection/_split.py:684: UserWarning: The least populated class in y has only 2 members, which is less than n_splits=5.\n",
      "  warnings.warn(\n"
     ]
    },
    {
     "name": "stdout",
     "output_type": "stream",
     "text": [
      "lambda 0.5 score 0.9126533166458073\n",
      "lambda 0.5 score 0.920247183979975\n",
      "lambda 0.5 score 0.9104599499374217\n",
      "lambda 0.5 score 0.916927409261577\n",
      "lambda 0.5 score 0.9943178973717146\n",
      "lambda 1 score 0.9181727158948686\n"
     ]
    },
    {
     "name": "stderr",
     "output_type": "stream",
     "text": [
      "/home/tosia/.pyenv/versions/3.9.5/lib/python3.8/site-packages/sklearn/model_selection/_split.py:684: UserWarning: The least populated class in y has only 2 members, which is less than n_splits=5.\n",
      "  warnings.warn(\n"
     ]
    },
    {
     "name": "stdout",
     "output_type": "stream",
     "text": [
      "lambda 1 score 0.907337296620776\n",
      "lambda 1 score 0.9489987484355444\n",
      "lambda 1 score 0.91180225281602\n",
      "lambda 1 score 0.9161389236545682\n",
      "lambda 10 score 0.8900750938673342\n",
      "lambda 10 score 0.8893617021276595\n",
      "lambda 10 score 0.9108385481852316\n",
      "lambda 10 score 0.8623623279098873\n",
      "lambda 10 score 0.939014392991239\n",
      "lambda 100 score 0.8952127659574468\n"
     ]
    },
    {
     "name": "stderr",
     "output_type": "stream",
     "text": [
      "/home/tosia/.pyenv/versions/3.9.5/lib/python3.8/site-packages/sklearn/model_selection/_split.py:684: UserWarning: The least populated class in y has only 2 members, which is less than n_splits=5.\n",
      "  warnings.warn(\n",
      "/home/tosia/.pyenv/versions/3.9.5/lib/python3.8/site-packages/sklearn/model_selection/_split.py:684: UserWarning: The least populated class in y has only 2 members, which is less than n_splits=5.\n",
      "  warnings.warn(\n"
     ]
    },
    {
     "name": "stdout",
     "output_type": "stream",
     "text": [
      "lambda 100 score 0.867787859824781\n",
      "lambda 100 score 0.8730663329161452\n",
      "lambda 100 score 0.8946120150187735\n",
      "lambda 100 score 0.9166927409261577\n",
      "lambda 500 score 0.8405788485607009\n",
      "lambda 500 score 0.9431257822277848\n",
      "lambda 500 score 0.8584981226533166\n"
     ]
    },
    {
     "name": "stderr",
     "output_type": "stream",
     "text": [
      "/home/tosia/.pyenv/versions/3.9.5/lib/python3.8/site-packages/sklearn/model_selection/_split.py:684: UserWarning: The least populated class in y has only 2 members, which is less than n_splits=5.\n",
      "  warnings.warn(\n",
      "/home/tosia/.pyenv/versions/3.9.5/lib/python3.8/site-packages/sklearn/model_selection/_split.py:684: UserWarning: The least populated class in y has only 2 members, which is less than n_splits=5.\n",
      "  warnings.warn(\n"
     ]
    },
    {
     "name": "stdout",
     "output_type": "stream",
     "text": [
      "lambda 500 score 0.8683041301627034\n",
      "lambda 500 score 0.8649687108886107\n",
      "lambda 1000 score 0.914142678347935\n",
      "lambda 1000 score 0.8506351689612015\n",
      "lambda 1000 score 0.9643554443053818\n",
      "lambda 1000 score 0.9505569461827285\n",
      "lambda 1000 score 0.8517709637046308\n"
     ]
    },
    {
     "name": "stderr",
     "output_type": "stream",
     "text": [
      "/home/tosia/.pyenv/versions/3.9.5/lib/python3.8/site-packages/sklearn/model_selection/_split.py:684: UserWarning: The least populated class in y has only 2 members, which is less than n_splits=5.\n",
      "  warnings.warn(\n",
      "/home/tosia/.pyenv/versions/3.9.5/lib/python3.8/site-packages/sklearn/model_selection/_split.py:684: UserWarning: The least populated class in y has only 2 members, which is less than n_splits=5.\n",
      "  warnings.warn(\n"
     ]
    },
    {
     "name": "stdout",
     "output_type": "stream",
     "text": [
      "lambda 5000 score 0.8578066332916146\n",
      "lambda 5000 score 0.9124687108886108\n",
      "lambda 5000 score 0.849715269086358\n",
      "lambda 5000 score 0.9346871088861076\n",
      "lambda 5000 score 0.8750907384230288\n",
      "lambda 0 score 0.8078785982478097\n",
      "lambda 0 score 0.8054599499374218\n",
      "lambda 0 score 0.8159511889862328\n",
      "lambda 0 score 0.8055913642052566\n",
      "lambda 0 score 0.805366082603254\n"
     ]
    },
    {
     "name": "stderr",
     "output_type": "stream",
     "text": [
      "/home/tosia/.pyenv/versions/3.9.5/lib/python3.8/site-packages/sklearn/model_selection/_split.py:684: UserWarning: The least populated class in y has only 2 members, which is less than n_splits=5.\n",
      "  warnings.warn(\n"
     ]
    },
    {
     "name": "stdout",
     "output_type": "stream",
     "text": [
      "lambda 0.001 score 0.7995932415519399\n",
      "lambda 0.001 score 0.8192396745932415\n",
      "lambda 0.001 score 0.7846057571964956\n",
      "lambda 0.001 score 0.805985607008761\n",
      "lambda 0.001 score 0.8051032540675844\n"
     ]
    },
    {
     "name": "stderr",
     "output_type": "stream",
     "text": [
      "/home/tosia/.pyenv/versions/3.9.5/lib/python3.8/site-packages/sklearn/model_selection/_split.py:684: UserWarning: The least populated class in y has only 2 members, which is less than n_splits=5.\n",
      "  warnings.warn(\n"
     ]
    },
    {
     "name": "stdout",
     "output_type": "stream",
     "text": [
      "lambda 0.5 score 0.8647809762202754\n",
      "lambda 0.5 score 0.8325125156445556\n",
      "lambda 0.5 score 0.8705694618272841\n",
      "lambda 0.5 score 0.8798654568210262\n",
      "lambda 0.5 score 0.8615237797246558\n",
      "lambda 0.1 score 0.8329130162703379\n"
     ]
    },
    {
     "name": "stderr",
     "output_type": "stream",
     "text": [
      "/home/tosia/.pyenv/versions/3.9.5/lib/python3.8/site-packages/sklearn/model_selection/_split.py:684: UserWarning: The least populated class in y has only 2 members, which is less than n_splits=5.\n",
      "  warnings.warn(\n"
     ]
    },
    {
     "name": "stdout",
     "output_type": "stream",
     "text": [
      "lambda 0.1 score 0.8387484355444306\n",
      "lambda 0.1 score 0.8436670838548185\n",
      "lambda 0.1 score 0.8705193992490613\n",
      "lambda 0.1 score 0.83229662077597\n"
     ]
    },
    {
     "name": "stderr",
     "output_type": "stream",
     "text": [
      "/home/tosia/.pyenv/versions/3.9.5/lib/python3.8/site-packages/sklearn/model_selection/_split.py:684: UserWarning: The least populated class in y has only 2 members, which is less than n_splits=5.\n",
      "  warnings.warn(\n"
     ]
    },
    {
     "name": "stdout",
     "output_type": "stream",
     "text": [
      "lambda 0.5 score 0.8408948685857321\n",
      "lambda 0.5 score 0.8191458072590738\n",
      "lambda 0.5 score 0.8463204005006257\n",
      "lambda 0.5 score 0.83159887359199\n",
      "lambda 0.5 score 0.9235951188986232\n",
      "lambda 1 score 0.8306633291614518\n"
     ]
    },
    {
     "name": "stderr",
     "output_type": "stream",
     "text": [
      "/home/tosia/.pyenv/versions/3.9.5/lib/python3.8/site-packages/sklearn/model_selection/_split.py:684: UserWarning: The least populated class in y has only 2 members, which is less than n_splits=5.\n",
      "  warnings.warn(\n"
     ]
    },
    {
     "name": "stdout",
     "output_type": "stream",
     "text": [
      "lambda 1 score 0.8637077596996245\n",
      "lambda 1 score 0.8316989987484356\n",
      "lambda 1 score 0.8115425531914894\n",
      "lambda 1 score 0.8568022528160201\n",
      "lambda 10 score 0.8383041301627033\n",
      "lambda 10 score 0.8440331664580726\n",
      "lambda 10 score 0.8714643304130163\n"
     ]
    },
    {
     "name": "stderr",
     "output_type": "stream",
     "text": [
      "/home/tosia/.pyenv/versions/3.9.5/lib/python3.8/site-packages/sklearn/model_selection/_split.py:684: UserWarning: The least populated class in y has only 2 members, which is less than n_splits=5.\n",
      "  warnings.warn(\n"
     ]
    },
    {
     "name": "stdout",
     "output_type": "stream",
     "text": [
      "lambda 10 score 0.8468053817271589\n",
      "lambda 10 score 0.782543804755945\n",
      "lambda 100 score 0.8398998748435544\n",
      "lambda 100 score 0.8456101376720901\n",
      "lambda 100 score 0.8479411764705882\n",
      "lambda 100 score 0.8638297872340426\n"
     ]
    },
    {
     "name": "stderr",
     "output_type": "stream",
     "text": [
      "/home/tosia/.pyenv/versions/3.9.5/lib/python3.8/site-packages/sklearn/model_selection/_split.py:684: UserWarning: The least populated class in y has only 2 members, which is less than n_splits=5.\n",
      "  warnings.warn(\n"
     ]
    },
    {
     "name": "stdout",
     "output_type": "stream",
     "text": [
      "lambda 100 score 0.8273466833541927\n",
      "lambda 500 score 0.8566958698372966\n",
      "lambda 500 score 0.8312515644555695\n",
      "lambda 500 score 0.8129349186483104\n"
     ]
    },
    {
     "name": "stderr",
     "output_type": "stream",
     "text": [
      "/home/tosia/.pyenv/versions/3.9.5/lib/python3.8/site-packages/sklearn/model_selection/_split.py:684: UserWarning: The least populated class in y has only 2 members, which is less than n_splits=5.\n",
      "  warnings.warn(\n"
     ]
    },
    {
     "name": "stdout",
     "output_type": "stream",
     "text": [
      "lambda 500 score 0.851886733416771\n",
      "lambda 500 score 0.8437202753441803\n",
      "lambda 1000 score 0.9076908635794744\n"
     ]
    },
    {
     "name": "stderr",
     "output_type": "stream",
     "text": [
      "/home/tosia/.pyenv/versions/3.9.5/lib/python3.8/site-packages/sklearn/model_selection/_split.py:684: UserWarning: The least populated class in y has only 2 members, which is less than n_splits=5.\n",
      "  warnings.warn(\n"
     ]
    },
    {
     "name": "stdout",
     "output_type": "stream",
     "text": [
      "lambda 1000 score 0.8570025031289111\n",
      "lambda 1000 score 0.8152690863579475\n",
      "lambda 1000 score 0.8221339173967459\n",
      "lambda 1000 score 0.838279098873592\n"
     ]
    },
    {
     "name": "stderr",
     "output_type": "stream",
     "text": [
      "/home/tosia/.pyenv/versions/3.9.5/lib/python3.8/site-packages/sklearn/model_selection/_split.py:684: UserWarning: The least populated class in y has only 2 members, which is less than n_splits=5.\n",
      "  warnings.warn(\n"
     ]
    },
    {
     "name": "stdout",
     "output_type": "stream",
     "text": [
      "lambda 5000 score 0.852174593241552\n",
      "lambda 5000 score 0.8337515644555694\n",
      "lambda 5000 score 0.8505256570713392\n",
      "lambda 5000 score 0.8504630788485606\n",
      "lambda 5000 score 0.8913297872340425\n",
      "lambda 0 score 0.784427409261577\n"
     ]
    },
    {
     "name": "stderr",
     "output_type": "stream",
     "text": [
      "/home/tosia/.pyenv/versions/3.9.5/lib/python3.8/site-packages/sklearn/model_selection/_split.py:684: UserWarning: The least populated class in y has only 2 members, which is less than n_splits=5.\n",
      "  warnings.warn(\n"
     ]
    },
    {
     "name": "stdout",
     "output_type": "stream",
     "text": [
      "lambda 0 score 0.8055475594493117\n",
      "lambda 0 score 0.7695588235294117\n",
      "lambda 0 score 0.767625156445557\n",
      "lambda 0 score 0.7705600750938674\n",
      "lambda 0.001 score 0.79090112640801\n"
     ]
    },
    {
     "name": "stderr",
     "output_type": "stream",
     "text": [
      "/home/tosia/.pyenv/versions/3.9.5/lib/python3.8/site-packages/sklearn/model_selection/_split.py:684: UserWarning: The least populated class in y has only 2 members, which is less than n_splits=5.\n",
      "  warnings.warn(\n"
     ]
    },
    {
     "name": "stdout",
     "output_type": "stream",
     "text": [
      "lambda 0.001 score 0.7851783479349187\n",
      "lambda 0.001 score 0.761232790988736\n",
      "lambda 0.001 score 0.8085544430538173\n",
      "lambda 0.001 score 0.7783416770963705\n"
     ]
    },
    {
     "name": "stderr",
     "output_type": "stream",
     "text": [
      "/home/tosia/.pyenv/versions/3.9.5/lib/python3.8/site-packages/sklearn/model_selection/_split.py:684: UserWarning: The least populated class in y has only 2 members, which is less than n_splits=5.\n",
      "  warnings.warn(\n"
     ]
    },
    {
     "name": "stdout",
     "output_type": "stream",
     "text": [
      "lambda 0.5 score 0.793526282853567\n",
      "lambda 0.5 score 0.7842334167709637\n",
      "lambda 0.5 score 0.8006727158948685\n",
      "lambda 0.5 score 0.7863172715894868\n",
      "lambda 0.5 score 0.7848560700876095\n",
      "lambda 0.1 score 0.7953191489361702\n"
     ]
    },
    {
     "name": "stderr",
     "output_type": "stream",
     "text": [
      "/home/tosia/.pyenv/versions/3.9.5/lib/python3.8/site-packages/sklearn/model_selection/_split.py:684: UserWarning: The least populated class in y has only 2 members, which is less than n_splits=5.\n",
      "  warnings.warn(\n"
     ]
    },
    {
     "name": "stdout",
     "output_type": "stream",
     "text": [
      "lambda 0.1 score 0.8033886107634544\n",
      "lambda 0.1 score 0.7823779724655819\n",
      "lambda 0.1 score 0.8342740926157697\n",
      "lambda 0.1 score 0.8110763454317897\n"
     ]
    },
    {
     "name": "stderr",
     "output_type": "stream",
     "text": [
      "/home/tosia/.pyenv/versions/3.9.5/lib/python3.8/site-packages/sklearn/model_selection/_split.py:684: UserWarning: The least populated class in y has only 2 members, which is less than n_splits=5.\n",
      "  warnings.warn(\n"
     ]
    },
    {
     "name": "stdout",
     "output_type": "stream",
     "text": [
      "lambda 0.5 score 0.7875125156445557\n",
      "lambda 0.5 score 0.8102847309136421\n",
      "lambda 0.5 score 0.7964674593241552\n",
      "lambda 0.5 score 0.7760951188986233\n",
      "lambda 0.5 score 0.7926126408010012\n"
     ]
    },
    {
     "name": "stderr",
     "output_type": "stream",
     "text": [
      "/home/tosia/.pyenv/versions/3.9.5/lib/python3.8/site-packages/sklearn/model_selection/_split.py:684: UserWarning: The least populated class in y has only 2 members, which is less than n_splits=5.\n",
      "  warnings.warn(\n"
     ]
    },
    {
     "name": "stdout",
     "output_type": "stream",
     "text": [
      "lambda 1 score 0.7952972465581978\n",
      "lambda 1 score 0.7890738423028786\n",
      "lambda 1 score 0.7862077596996245\n",
      "lambda 1 score 0.7830506883604506\n",
      "lambda 1 score 0.7992928660826033\n"
     ]
    },
    {
     "name": "stderr",
     "output_type": "stream",
     "text": [
      "/home/tosia/.pyenv/versions/3.9.5/lib/python3.8/site-packages/sklearn/model_selection/_split.py:684: UserWarning: The least populated class in y has only 2 members, which is less than n_splits=5.\n",
      "  warnings.warn(\n"
     ]
    },
    {
     "name": "stdout",
     "output_type": "stream",
     "text": [
      "lambda 10 score 0.7937140175219024\n",
      "lambda 10 score 0.8116520650813517\n",
      "lambda 10 score 0.8017740926157697\n",
      "lambda 10 score 0.7872371714643304\n",
      "lambda 10 score 0.7913610763454317\n",
      "lambda 100 score 0.8071057571964956\n"
     ]
    },
    {
     "name": "stderr",
     "output_type": "stream",
     "text": [
      "/home/tosia/.pyenv/versions/3.9.5/lib/python3.8/site-packages/sklearn/model_selection/_split.py:684: UserWarning: The least populated class in y has only 2 members, which is less than n_splits=5.\n",
      "  warnings.warn(\n"
     ]
    },
    {
     "name": "stdout",
     "output_type": "stream",
     "text": [
      "lambda 100 score 0.8049655819774718\n",
      "lambda 100 score 0.7870212765957447\n",
      "lambda 100 score 0.798854818523154\n",
      "lambda 100 score 0.8072090112640801\n",
      "lambda 500 score 0.8094461827284105\n",
      "lambda 500 score 0.8205538172715895\n"
     ]
    },
    {
     "name": "stderr",
     "output_type": "stream",
     "text": [
      "/home/tosia/.pyenv/versions/3.9.5/lib/python3.8/site-packages/sklearn/model_selection/_split.py:684: UserWarning: The least populated class in y has only 2 members, which is less than n_splits=5.\n",
      "  warnings.warn(\n"
     ]
    },
    {
     "name": "stdout",
     "output_type": "stream",
     "text": [
      "lambda 500 score 0.7993742177722153\n",
      "lambda 500 score 0.8045588235294118\n",
      "lambda 500 score 0.7974342928660826\n"
     ]
    },
    {
     "name": "stderr",
     "output_type": "stream",
     "text": [
      "/home/tosia/.pyenv/versions/3.9.5/lib/python3.8/site-packages/sklearn/model_selection/_split.py:684: UserWarning: The least populated class in y has only 2 members, which is less than n_splits=5.\n",
      "  warnings.warn(\n"
     ]
    },
    {
     "name": "stdout",
     "output_type": "stream",
     "text": [
      "lambda 1000 score 0.793854818523154\n",
      "lambda 1000 score 0.7804974968710888\n",
      "lambda 1000 score 0.8092334167709637\n",
      "lambda 1000 score 0.8006789737171465\n",
      "lambda 1000 score 0.8071370463078849\n",
      "lambda 5000 score 0.7817365456821026\n"
     ]
    },
    {
     "name": "stderr",
     "output_type": "stream",
     "text": [
      "/home/tosia/.pyenv/versions/3.9.5/lib/python3.8/site-packages/sklearn/model_selection/_split.py:684: UserWarning: The least populated class in y has only 2 members, which is less than n_splits=5.\n",
      "  warnings.warn(\n"
     ]
    },
    {
     "name": "stdout",
     "output_type": "stream",
     "text": [
      "lambda 5000 score 0.7800938673341677\n",
      "lambda 5000 score 0.808116395494368\n",
      "lambda 5000 score 0.7953754693366708\n",
      "lambda 5000 score 0.7916958698372967\n"
     ]
    },
    {
     "name": "stderr",
     "output_type": "stream",
     "text": [
      "/home/tosia/.pyenv/versions/3.9.5/lib/python3.8/site-packages/sklearn/model_selection/_split.py:684: UserWarning: The least populated class in y has only 2 members, which is less than n_splits=5.\n",
      "  warnings.warn(\n"
     ]
    },
    {
     "name": "stdout",
     "output_type": "stream",
     "text": [
      "lambda 0 score 0.7646652065081352\n",
      "lambda 0 score 0.7532916145181476\n",
      "lambda 0 score 0.756842928660826\n",
      "lambda 0 score 0.7367772215269086\n",
      "lambda 0 score 0.7896182728410513\n",
      "lambda 0.001 score 0.7686420525657072\n"
     ]
    },
    {
     "name": "stderr",
     "output_type": "stream",
     "text": [
      "/home/tosia/.pyenv/versions/3.9.5/lib/python3.8/site-packages/sklearn/model_selection/_split.py:684: UserWarning: The least populated class in y has only 2 members, which is less than n_splits=5.\n",
      "  warnings.warn(\n"
     ]
    },
    {
     "name": "stdout",
     "output_type": "stream",
     "text": [
      "lambda 0.001 score 0.7515550688360451\n",
      "lambda 0.001 score 0.7484637046307885\n",
      "lambda 0.001 score 0.7551032540675845\n",
      "lambda 0.001 score 0.7529161451814769\n"
     ]
    },
    {
     "name": "stderr",
     "output_type": "stream",
     "text": [
      "/home/tosia/.pyenv/versions/3.9.5/lib/python3.8/site-packages/sklearn/model_selection/_split.py:684: UserWarning: The least populated class in y has only 2 members, which is less than n_splits=5.\n",
      "  warnings.warn(\n"
     ]
    },
    {
     "name": "stdout",
     "output_type": "stream",
     "text": [
      "lambda 0.5 score 0.7736076345431789\n",
      "lambda 0.5 score 0.7946401752190237\n",
      "lambda 0.5 score 0.7847121401752191\n",
      "lambda 0.5 score 0.7815926157697122\n",
      "lambda 0.5 score 0.7776533166458073\n",
      "lambda 0.1 score 0.7614236545682103\n"
     ]
    },
    {
     "name": "stderr",
     "output_type": "stream",
     "text": [
      "/home/tosia/.pyenv/versions/3.9.5/lib/python3.8/site-packages/sklearn/model_selection/_split.py:684: UserWarning: The least populated class in y has only 2 members, which is less than n_splits=5.\n",
      "  warnings.warn(\n"
     ]
    },
    {
     "name": "stdout",
     "output_type": "stream",
     "text": [
      "lambda 0.1 score 0.769874843554443\n",
      "lambda 0.1 score 0.7679192740926157\n",
      "lambda 0.1 score 0.7847747183979975\n",
      "lambda 0.1 score 0.7871433041301628\n"
     ]
    },
    {
     "name": "stderr",
     "output_type": "stream",
     "text": [
      "/home/tosia/.pyenv/versions/3.9.5/lib/python3.8/site-packages/sklearn/model_selection/_split.py:684: UserWarning: The least populated class in y has only 2 members, which is less than n_splits=5.\n",
      "  warnings.warn(\n"
     ]
    },
    {
     "name": "stdout",
     "output_type": "stream",
     "text": [
      "lambda 0.5 score 0.7649655819774719\n",
      "lambda 0.5 score 0.7684198998748436\n",
      "lambda 0.5 score 0.7696464330413016\n",
      "lambda 0.5 score 0.7667897371714644\n",
      "lambda 0.5 score 0.7618272841051315\n",
      "lambda 1 score 0.7825782227784731\n"
     ]
    },
    {
     "name": "stderr",
     "output_type": "stream",
     "text": [
      "/home/tosia/.pyenv/versions/3.9.5/lib/python3.8/site-packages/sklearn/model_selection/_split.py:684: UserWarning: The least populated class in y has only 2 members, which is less than n_splits=5.\n",
      "  warnings.warn(\n"
     ]
    },
    {
     "name": "stdout",
     "output_type": "stream",
     "text": [
      "lambda 1 score 0.785409887359199\n",
      "lambda 1 score 0.7725187734668335\n",
      "lambda 1 score 0.7610575719649562\n",
      "lambda 1 score 0.7868272841051314\n",
      "lambda 10 score 0.7831445556946183\n"
     ]
    },
    {
     "name": "stderr",
     "output_type": "stream",
     "text": [
      "/home/tosia/.pyenv/versions/3.9.5/lib/python3.8/site-packages/sklearn/model_selection/_split.py:684: UserWarning: The least populated class in y has only 2 members, which is less than n_splits=5.\n",
      "  warnings.warn(\n"
     ]
    },
    {
     "name": "stdout",
     "output_type": "stream",
     "text": [
      "lambda 10 score 0.7812515644555694\n",
      "lambda 10 score 0.7956289111389236\n",
      "lambda 10 score 0.7790362953692115\n",
      "lambda 10 score 0.787787859824781\n"
     ]
    },
    {
     "name": "stderr",
     "output_type": "stream",
     "text": [
      "/home/tosia/.pyenv/versions/3.9.5/lib/python3.8/site-packages/sklearn/model_selection/_split.py:684: UserWarning: The least populated class in y has only 2 members, which is less than n_splits=5.\n",
      "  warnings.warn(\n"
     ]
    },
    {
     "name": "stdout",
     "output_type": "stream",
     "text": [
      "lambda 100 score 0.7821182728410513\n",
      "lambda 100 score 0.7725312891113892\n",
      "lambda 100 score 0.7843147684605757\n",
      "lambda 100 score 0.7804036295369211\n",
      "lambda 100 score 0.771229662077597\n"
     ]
    },
    {
     "name": "stderr",
     "output_type": "stream",
     "text": [
      "/home/tosia/.pyenv/versions/3.9.5/lib/python3.8/site-packages/sklearn/model_selection/_split.py:684: UserWarning: The least populated class in y has only 2 members, which is less than n_splits=5.\n",
      "  warnings.warn(\n"
     ]
    },
    {
     "name": "stdout",
     "output_type": "stream",
     "text": [
      "lambda 500 score 0.7850438047559449\n",
      "lambda 500 score 0.8060012515644556\n",
      "lambda 500 score 0.7727878598247809\n",
      "lambda 500 score 0.7741864831038798\n",
      "lambda 500 score 0.7825719649561953\n",
      "lambda 1000 score 0.7824405506883605\n"
     ]
    },
    {
     "name": "stderr",
     "output_type": "stream",
     "text": [
      "/home/tosia/.pyenv/versions/3.9.5/lib/python3.8/site-packages/sklearn/model_selection/_split.py:684: UserWarning: The least populated class in y has only 2 members, which is less than n_splits=5.\n",
      "  warnings.warn(\n"
     ]
    },
    {
     "name": "stdout",
     "output_type": "stream",
     "text": [
      "lambda 1000 score 0.7892459324155194\n",
      "lambda 1000 score 0.8099530663329162\n",
      "lambda 1000 score 0.7778097622027534\n",
      "lambda 1000 score 0.7871057571964957\n"
     ]
    },
    {
     "name": "stderr",
     "output_type": "stream",
     "text": [
      "/home/tosia/.pyenv/versions/3.9.5/lib/python3.8/site-packages/sklearn/model_selection/_split.py:684: UserWarning: The least populated class in y has only 2 members, which is less than n_splits=5.\n",
      "  warnings.warn(\n"
     ]
    },
    {
     "name": "stdout",
     "output_type": "stream",
     "text": [
      "lambda 5000 score 0.7698247809762203\n",
      "lambda 5000 score 0.7758260325406758\n",
      "lambda 5000 score 0.7714549436795995\n",
      "lambda 5000 score 0.8030632040050063\n",
      "lambda 5000 score 0.8086983729662077\n"
     ]
    }
   ],
   "source": [
    "skf = StratifiedKFold(n_splits=5)\n",
    "fraction_known = 0.1\n",
    "for k in [5, 10, 20, 30]:\n",
    "    for lam in (0, 0.001, 0.5, 0.1, 0.5, 1, 10, 100, 500, 1000, 5000):\n",
    "        for train_index, test_index in skf.split(X, y):\n",
    "            X_train_T, X_test_T = X[train_index], X[test_index]\n",
    "            y_train, y_test = y[train_index], y[test_index]\n",
    "            Y_train = get_Y_torch(X_train_T.T, y_train)\n",
    "            L_train = get_L_torch(Y_train, fraction_known=fraction_known)\n",
    "            #print(f\"norm X {np.linalg.norm(X_train_T)}\")\n",
    "            snmf = SSNMF(X_train_T.T, k, L=L_train, Y=Y_train, lam=lam * np.linalg.norm(X_train_T), modelNum=5)\n",
    "            snmf.mult(numiters=1000)\n",
    "            y_pred = np.argmax(snmf.S, axis=0)\n",
    "            score = metrics.rand_score(y_train, y_pred)\n",
    "            print(f'lambda {lam} score {score}')"
   ],
   "metadata": {
    "collapsed": false
   }
  },
  {
   "cell_type": "code",
   "execution_count": null,
   "outputs": [],
   "source": [],
   "metadata": {
    "collapsed": false
   }
  }
 ],
 "metadata": {
  "kernelspec": {
   "display_name": "Python 3",
   "language": "python",
   "name": "python3"
  },
  "language_info": {
   "codemirror_mode": {
    "name": "ipython",
    "version": 2
   },
   "file_extension": ".py",
   "mimetype": "text/x-python",
   "name": "python",
   "nbconvert_exporter": "python",
   "pygments_lexer": "ipython2",
   "version": "2.7.6"
  }
 },
 "nbformat": 4,
 "nbformat_minor": 0
}
