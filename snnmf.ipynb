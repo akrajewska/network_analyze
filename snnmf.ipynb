{
 "cells": [
  {
   "cell_type": "code",
   "execution_count": 2,
   "outputs": [],
   "source": [
    "import pandas as pd\n",
    "from sklearn.decomposition import NMF\n",
    "from utils.process import prepare_df, data_arrays\n",
    "from sklearn import metrics\n",
    "import numpy as np\n",
    "import seaborn as sns\n",
    "import matplotlib.pyplot as plt\n",
    "import torch"
   ],
   "metadata": {
    "collapsed": false
   }
  },
  {
   "cell_type": "code",
   "execution_count": 3,
   "outputs": [
    {
     "data": {
      "text/plain": "Label\nBot                             32\nDDoS                          2259\nDoS GoldenEye                  185\nDoS Hulk                      4180\nDoS Slowhttptest                98\nDoS slowloris                  120\nFTP-Patator                    140\nHeartbleed                       1\nPortScan                      2856\nSSH-Patator                    100\nWeb Attack   Brute Force        25\nWeb Attack   Sql Injection       1\nWeb Attack   XSS                 3\nName: Label, dtype: int64"
     },
     "execution_count": 3,
     "metadata": {},
     "output_type": "execute_result"
    }
   ],
   "source": [
    "df = prepare_df()\n",
    "df = df[df['Label'] != 'BENIGN']\n",
    "df = df.sample(10000)\n",
    "df.groupby('Label')['Label'].count()"
   ],
   "metadata": {
    "collapsed": false
   }
  },
  {
   "cell_type": "code",
   "execution_count": 3,
   "outputs": [],
   "source": [
    "class SSNM_wrapper:\n",
    "\n",
    "    def fit_transform(self, X, **kwargs):\n",
    "        self.model = SSNMF(X, **kwargs)\n",
    "        self.model.mult(1000)\n",
    "        return self\n",
    "\n",
    "    def fit(self, X, **kwargs):\n",
    "        return self.fit_transform(X, **kwargs)\n",
    "\n",
    "    def score(self, X, y):\n",
    "        y_pred = self.predict()\n",
    "        return metrics.rand_score(y, y_pred)\n",
    "\n",
    "    def predict(self):\n",
    "        return np.argmax(self.model.S, axis=0)\n",
    "\n"
   ],
   "metadata": {
    "collapsed": false
   }
  },
  {
   "cell_type": "code",
   "execution_count": 1,
   "outputs": [
    {
     "ename": "NameError",
     "evalue": "name 'torch' is not defined",
     "output_type": "error",
     "traceback": [
      "\u001B[0;31m---------------------------------------------------------------------------\u001B[0m",
      "\u001B[0;31mNameError\u001B[0m                                 Traceback (most recent call last)",
      "Cell \u001B[0;32mIn [1], line 4\u001B[0m\n\u001B[1;32m      1\u001B[0m \u001B[38;5;28;01mfrom\u001B[39;00m \u001B[38;5;21;01mssnmf\u001B[39;00m \u001B[38;5;28;01mimport\u001B[39;00m SSNMF\n\u001B[1;32m      2\u001B[0m \u001B[38;5;28;01mimport\u001B[39;00m \u001B[38;5;21;01mrandom\u001B[39;00m\n\u001B[0;32m----> 4\u001B[0m device \u001B[38;5;241m=\u001B[39m torch\u001B[38;5;241m.\u001B[39mdevice(\u001B[38;5;124m'\u001B[39m\u001B[38;5;124mcuda\u001B[39m\u001B[38;5;124m'\u001B[39m) \u001B[38;5;28;01mif\u001B[39;00m \u001B[43mtorch\u001B[49m\u001B[38;5;241m.\u001B[39mcuda\u001B[38;5;241m.\u001B[39mis_available() \u001B[38;5;28;01melse\u001B[39;00m torch\u001B[38;5;241m.\u001B[39mdevice(\u001B[38;5;124m\"\u001B[39m\u001B[38;5;124mcpu\u001B[39m\u001B[38;5;124m\"\u001B[39m)\n\u001B[1;32m      6\u001B[0m \u001B[38;5;28;01mdef\u001B[39;00m \u001B[38;5;21mget_Y\u001B[39m(X, y):\n\u001B[1;32m      7\u001B[0m     y_unique \u001B[38;5;241m=\u001B[39m \u001B[38;5;28mlist\u001B[39m(np\u001B[38;5;241m.\u001B[39munique(y))\n",
      "\u001B[0;31mNameError\u001B[0m: name 'torch' is not defined"
     ]
    }
   ],
   "source": [
    "from ssnmf import SSNMF\n",
    "import random\n",
    "\n",
    "device = torch.device('cuda') if torch.cuda.is_available() else torch.device('cpu')\n",
    "\n",
    "\n",
    "def get_Y(X, y):\n",
    "    y_unique = list(np.unique(y))\n",
    "    sample_size = X.shape[1]\n",
    "    Y = np.zeros((len(y_unique), sample_size))\n",
    "    for i in range(sample_size):\n",
    "        j = y_unique.index(y[i])\n",
    "        Y[j, i] = 1\n",
    "    return Y\n",
    "\n",
    "\n",
    "def get_Y_torch(X, y):\n",
    "    y_unique = torch.unique(y)\n",
    "    sample_size = X.shape[1]\n",
    "    Y = torch.zeros(y_unique.shape[0], sample_size, device=device)\n",
    "    for i in sample_size:\n",
    "        j = ((y_unique == y[i]).nonzero(as_tuple=True)[0])\n",
    "        Y[j, i] = 1\n",
    "    return Y\n",
    "\n",
    "\n",
    "def get_L(Y, fraction_known=0.5):\n",
    "    L = np.zeros(Y.shape)\n",
    "    m, n = L.shape\n",
    "    labeled_data = random.sample(range(n), int(fraction_known * n))\n",
    "    for i in labeled_data:\n",
    "        L[:i] = 1\n",
    "    return L\n",
    "\n",
    "\n",
    "def get_L_torch(Y, fraction_known=0.5):\n",
    "    L = torch.zeros(Y.shape, device=device)\n",
    "    m, n = L.shape\n",
    "    num_samples = int(fraction_known * n)\n",
    "    labeled_data = torch.randperm(n, dtype=torch.int32, device=device)[:num_samples]\n",
    "    for i in labeled_data:\n",
    "        L[:i] = 1\n",
    "    return L\n",
    "\n",
    "#model = SSNMF(M_s,10, modelNum=1)"
   ],
   "metadata": {
    "collapsed": false
   }
  },
  {
   "cell_type": "code",
   "execution_count": 5,
   "outputs": [
    {
     "name": "stderr",
     "output_type": "stream",
     "text": [
      "/home/tosia/NASK/network_analyze/utils/process.py:43: SettingWithCopyWarning: \n",
      "A value is trying to be set on a copy of a slice from a DataFrame\n",
      "\n",
      "See the caveats in the documentation: https://pandas.pydata.org/pandas-docs/stable/user_guide/indexing.html#returning-a-view-versus-a-copy\n",
      "  df.replace([np.inf, -np.inf], np.nan, inplace=True)\n"
     ]
    },
    {
     "name": "stdout",
     "output_type": "stream",
     "text": [
      "lambda 0 score 0.8014728182662744\n",
      "lambda 0 score 0.7878843784940482\n",
      "lambda 0 score 0.8026308782288277\n",
      "lambda 0 score 0.7956489319183337\n",
      "lambda 0 score 0.7655660331427642\n",
      "lambda 0.001 score 0.770901405107937\n",
      "lambda 0.001 score 0.785680014701414\n",
      "lambda 0.001 score 0.77610269951855\n",
      "lambda 0.001 score 0.8056294111978765\n",
      "lambda 0.001 score 0.7819999616788557\n",
      "lambda 0.5 score 0.7907881842380747\n",
      "lambda 0.5 score 0.8252469325109523\n",
      "lambda 0.5 score 0.8208043670413225\n",
      "lambda 0.5 score 0.8676479066649981\n",
      "lambda 0.5 score 0.8538705455203367\n",
      "lambda 0.1 score 0.8206980463350289\n",
      "lambda 0.1 score 0.8841195729665278\n",
      "lambda 0.1 score 0.8292222084224536\n",
      "lambda 0.1 score 0.8301532686500861\n",
      "lambda 0.1 score 0.8280967175426974\n",
      "lambda 0.5 score 0.8512570805458839\n",
      "lambda 0.5 score 0.8338871865043332\n",
      "lambda 0.5 score 0.8437654295018784\n",
      "lambda 0.5 score 0.8360157370983012\n",
      "lambda 0.5 score 0.8164893371415756\n",
      "lambda 1 score 0.859765627565038\n",
      "lambda 1 score 0.828999513042368\n",
      "lambda 1 score 0.8150182144901487\n",
      "lambda 1 score 0.8572088093742941\n",
      "lambda 1 score 0.8445622453175173\n",
      "lambda 10 score 0.845091673489488\n",
      "lambda 10 score 0.8328236652549116\n",
      "lambda 10 score 0.8174805568050577\n",
      "lambda 10 score 0.8551124943136174\n",
      "lambda 10 score 0.8357881481495442\n",
      "lambda 100 score 0.8495167701905896\n",
      "lambda 100 score 0.8131477052557523\n",
      "lambda 100 score 0.8420382521416286\n",
      "lambda 100 score 0.8493042230339475\n",
      "lambda 100 score 0.7938071460139257\n",
      "lambda 500 score 0.8063105046585843\n",
      "lambda 500 score 0.8233998615882862\n",
      "lambda 500 score 0.8404363095140286\n",
      "lambda 500 score 0.8159762004994874\n",
      "lambda 500 score 0.8368351006605371\n",
      "lambda 1000 score 0.8146719809844286\n",
      "lambda 1000 score 0.8000886068723078\n",
      "lambda 1000 score 0.8040893633076874\n",
      "lambda 1000 score 0.8324298010781687\n",
      "lambda 1000 score 0.8206500710982871\n",
      "lambda 5000 score 0.8160238311705102\n",
      "lambda 5000 score 0.7914934700580751\n",
      "lambda 5000 score 0.8307708964409615\n",
      "lambda 5000 score 0.8106144510513323\n",
      "lambda 5000 score 0.8416995615998261\n"
     ]
    }
   ],
   "source": [
    "from sklearn.model_selection import StratifiedKFold, cross_val_score\n",
    "from ssnmf import SSNMF\n",
    "\n",
    "skf = StratifiedKFold(n_splits=5)\n",
    "\n",
    "X, y = data_arrays(df)\n",
    "skf.get_n_splits(X, y)\n",
    "\n",
    "k = 12\n",
    "lam = 50\n",
    "fraction_known = 0.1\n",
    "\n",
    "for lam in (0, 0.001, 0.5, 0.1, 0.5, 1, 10, 100, 500, 1000, 5000):\n",
    "    for train_index, test_index in skf.split(X, y):\n",
    "        X_train_T, X_test_T = X[train_index], X[test_index]\n",
    "        y_train, y_test = y[train_index], y[test_index]\n",
    "        Y_train = get_Y(X_train_T.T, y_train)\n",
    "        L_train = get_L(Y_train, fraction_known=fraction_known)\n",
    "        #print(f\"norm X {np.linalg.norm(X_train_T)}\")\n",
    "        snmf = SSNMF(X_train_T.T, k, L=L_train, Y=Y_train, lam=lam * np.linalg.norm(X_train_T), modelNum=5)\n",
    "        snmf.mult(numiters=1000)\n",
    "        y_pred = np.argmax(snmf.S, axis=0)\n",
    "        score = metrics.rand_score(y_train, y_pred)\n",
    "        print(f'lambda {lam} score {score}')\n",
    "\n",
    "\n",
    "# #"
   ],
   "metadata": {
    "collapsed": false
   }
  },
  {
   "cell_type": "code",
   "execution_count": null,
   "outputs": [],
   "source": [
    "print(metrics.completeness_score(Labels, np.argmax(model.S, axis=0)))\n",
    "print(metrics.homogeneity_score(Labels, np.argmax(model.S, axis=0)))"
   ],
   "metadata": {
    "collapsed": false
   }
  },
  {
   "cell_type": "code",
   "execution_count": 198,
   "outputs": [
    {
     "data": {
      "text/plain": "array([[83868909.0, 3675920.0, 986.0, ..., 95502143.0, 166023.0,\n        102585716.0],\n       [8.0, 4.0, 7.0, ..., 8.0, 4.0, 13.0],\n       [7.0, 0.0, 0.0, ..., 4.0, 0.0, 6.0],\n       ...,\n       [50000000.0, 0.0, 0.0, ..., 59600000.0, 0.0, 0.0],\n       [76400000.0, 0.0, 0.0, ..., 89800000.0, 0.0, 99200000.0],\n       [5738681.0, 0.0, 0.0, ..., 5557884.0, 0.0, 99200000.0]],\n      dtype=object)"
     },
     "execution_count": 198,
     "metadata": {},
     "output_type": "execute_result"
    }
   ],
   "source": [],
   "metadata": {
    "collapsed": false
   }
  },
  {
   "cell_type": "code",
   "execution_count": null,
   "outputs": [],
   "source": [],
   "metadata": {
    "collapsed": false
   }
  }
 ],
 "metadata": {
  "kernelspec": {
   "display_name": "Python 3",
   "language": "python",
   "name": "python3"
  },
  "language_info": {
   "codemirror_mode": {
    "name": "ipython",
    "version": 2
   },
   "file_extension": ".py",
   "mimetype": "text/x-python",
   "name": "python",
   "nbconvert_exporter": "python",
   "pygments_lexer": "ipython2",
   "version": "2.7.6"
  }
 },
 "nbformat": 4,
 "nbformat_minor": 0
}
