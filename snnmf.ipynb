{
 "cells": [
  {
   "cell_type": "code",
   "execution_count": 1,
   "outputs": [],
   "source": [
    "import pandas as pd\n",
    "from sklearn.decomposition import NMF\n",
    "from utils.process import prepare_df, data_arrays\n",
    "from sklearn import metrics\n",
    "import numpy as np\n",
    "import seaborn as sns\n",
    "import matplotlib.pyplot as plt\n",
    "import torch"
   ],
   "metadata": {
    "collapsed": false
   }
  },
  {
   "cell_type": "code",
   "execution_count": 2,
   "outputs": [
    {
     "data": {
      "text/plain": "Label\nBot                           33\nDDoS                        2296\nDoS GoldenEye                185\nDoS Hulk                    4128\nDoS Slowhttptest             100\nDoS slowloris                103\nFTP-Patator                  130\nHeartbleed                     1\nInfiltration                   3\nPortScan                    2857\nSSH-Patator                  116\nWeb Attack   Brute Force      28\nWeb Attack   XSS              20\nName: Label, dtype: int64"
     },
     "execution_count": 2,
     "metadata": {},
     "output_type": "execute_result"
    }
   ],
   "source": [
    "df = prepare_df()\n",
    "df = df[df['Label'] != 'BENIGN']\n",
    "df = df.sample(10000)\n",
    "df.groupby('Label')['Label'].count()"
   ],
   "metadata": {
    "collapsed": false
   }
  },
  {
   "cell_type": "code",
   "execution_count": 3,
   "outputs": [],
   "source": [
    "class SSNM_wrapper:\n",
    "\n",
    "    def fit_transform(self, X, **kwargs):\n",
    "        self.model = SSNMF(X, **kwargs)\n",
    "        self.model.mult(1000)\n",
    "        return self\n",
    "\n",
    "    def fit(self, X, **kwargs):\n",
    "        return self.fit_transform(X, **kwargs)\n",
    "\n",
    "    def score(self, X, y):\n",
    "        y_pred = self.predict()\n",
    "        return metrics.rand_score(y, y_pred)\n",
    "\n",
    "    def predict(self):\n",
    "        return np.argmax(self.model.S, axis=0)\n",
    "\n"
   ],
   "metadata": {
    "collapsed": false
   }
  },
  {
   "cell_type": "code",
   "execution_count": 4,
   "outputs": [],
   "source": [
    "from ssnmf import SSNMF\n",
    "import random\n",
    "\n",
    "device = torch.device('cuda') if torch.cuda.is_available() else torch.device('cpu')\n",
    "\n",
    "\n",
    "def get_Y(X, y):\n",
    "    y_unique = list(np.unique(y))\n",
    "    sample_size = X.shape[1]\n",
    "    Y = np.zeros((len(y_unique), sample_size))\n",
    "    for i in range(sample_size):\n",
    "        j = y_unique.index(y[i])\n",
    "        Y[j, i] = 1\n",
    "    return Y\n",
    "\n",
    "\n",
    "def get_Y_torch(X, y):\n",
    "    y_unique = torch.unique(y)\n",
    "    sample_size = X.shape[1]\n",
    "    Y = torch.zeros(y_unique.shape[0], sample_size, device=device)\n",
    "    for i in sample_size:\n",
    "        j = ((y_unique == y[i]).nonzero(as_tuple=True)[0])\n",
    "        Y[j, i] = 1\n",
    "    return Y\n",
    "\n",
    "\n",
    "def get_L(Y, fraction_known=0.5):\n",
    "    L = np.zeros(Y.shape)\n",
    "    m, n = L.shape\n",
    "    labeled_data = random.sample(range(n), int(fraction_known * n))\n",
    "    for i in labeled_data:\n",
    "        L[:i] = 1\n",
    "    return L\n",
    "\n",
    "\n",
    "def get_L_torch(Y, fraction_known=0.5):\n",
    "    L = torch.zeros(Y.shape, device=device)\n",
    "    m, n = L.shape\n",
    "    num_samples = int(fraction_known * n)\n",
    "    labeled_data = torch.randperm(n, dtype=torch.int32, device=device)[:num_samples]\n",
    "    for i in labeled_data:\n",
    "        L[:i] = 1\n",
    "    return L\n",
    "\n",
    "#model = SSNMF(M_s,10, modelNum=1)"
   ],
   "metadata": {
    "collapsed": false
   }
  },
  {
   "cell_type": "code",
   "execution_count": 6,
   "outputs": [
    {
     "name": "stderr",
     "output_type": "stream",
     "text": [
      "/home/tosia/NASK/network_analyze_new/utils/process.py:62: SettingWithCopyWarning: \n",
      "A value is trying to be set on a copy of a slice from a DataFrame\n",
      "\n",
      "See the caveats in the documentation: https://pandas.pydata.org/pandas-docs/stable/user_guide/indexing.html#returning-a-view-versus-a-copy\n",
      "  df.replace([np.inf, -np.inf], np.nan, inplace=True)\n",
      "/home/tosia/.pyenv/versions/3.9.5/lib/python3.8/site-packages/sklearn/model_selection/_split.py:684: UserWarning: The least populated class in y has only 1 members, which is less than n_splits=5.\n",
      "  warnings.warn(\n"
     ]
    },
    {
     "name": "stdout",
     "output_type": "stream",
     "text": [
      "lambda 0 score 0.7708653364995371\n",
      "lambda 0 score 0.773759056857417\n",
      "lambda 0 score 0.7722138877275334\n"
     ]
    },
    {
     "ename": "KeyboardInterrupt",
     "evalue": "",
     "output_type": "error",
     "traceback": [
      "\u001B[0;31m---------------------------------------------------------------------------\u001B[0m",
      "\u001B[0;31mKeyboardInterrupt\u001B[0m                         Traceback (most recent call last)",
      "Cell \u001B[0;32mIn [6], line 21\u001B[0m\n\u001B[1;32m     19\u001B[0m \u001B[38;5;66;03m#print(f\"norm X {np.linalg.norm(X_train_T)}\")\u001B[39;00m\n\u001B[1;32m     20\u001B[0m snmf \u001B[38;5;241m=\u001B[39m SSNMF(X_train_T\u001B[38;5;241m.\u001B[39mT, k, L\u001B[38;5;241m=\u001B[39mL_train, Y\u001B[38;5;241m=\u001B[39mY_train, lam\u001B[38;5;241m=\u001B[39mlam \u001B[38;5;241m*\u001B[39m np\u001B[38;5;241m.\u001B[39mlinalg\u001B[38;5;241m.\u001B[39mnorm(X_train_T), modelNum\u001B[38;5;241m=\u001B[39m\u001B[38;5;241m3\u001B[39m)\n\u001B[0;32m---> 21\u001B[0m \u001B[43msnmf\u001B[49m\u001B[38;5;241;43m.\u001B[39;49m\u001B[43mmult\u001B[49m\u001B[43m(\u001B[49m\u001B[43mnumiters\u001B[49m\u001B[38;5;241;43m=\u001B[39;49m\u001B[38;5;241;43m1000\u001B[39;49m\u001B[43m)\u001B[49m\n\u001B[1;32m     22\u001B[0m y_pred \u001B[38;5;241m=\u001B[39m np\u001B[38;5;241m.\u001B[39margmax(snmf\u001B[38;5;241m.\u001B[39mS, axis\u001B[38;5;241m=\u001B[39m\u001B[38;5;241m0\u001B[39m)\n\u001B[1;32m     23\u001B[0m score \u001B[38;5;241m=\u001B[39m metrics\u001B[38;5;241m.\u001B[39mrand_score(y_train, y_pred)\n",
      "File \u001B[0;32m~/.pyenv/versions/3.9.5/lib/python3.8/site-packages/ssnmf/ssnmf.py:943\u001B[0m, in \u001B[0;36mSSNMF.mult\u001B[0;34m(self, **kwargs)\u001B[0m\n\u001B[1;32m    926\u001B[0m \u001B[38;5;124;03m'''\u001B[39;00m\n\u001B[1;32m    927\u001B[0m \u001B[38;5;124;03mMultiplicative updates for training (SS)NMF model.\u001B[39;00m\n\u001B[1;32m    928\u001B[0m \u001B[38;5;124;03mParameters\u001B[39;00m\n\u001B[0;32m   (...)\u001B[0m\n\u001B[1;32m    939\u001B[0m \u001B[38;5;124;03m    If saveerrs, returns array of ||X - AS||_F for each iteration (length numiters).\u001B[39;00m\n\u001B[1;32m    940\u001B[0m \u001B[38;5;124;03m'''\u001B[39;00m\n\u001B[1;32m    942\u001B[0m \u001B[38;5;28;01mif\u001B[39;00m \u001B[38;5;28mself\u001B[39m\u001B[38;5;241m.\u001B[39mstr \u001B[38;5;241m==\u001B[39m \u001B[38;5;124m\"\u001B[39m\u001B[38;5;124mnumpy\u001B[39m\u001B[38;5;124m\"\u001B[39m:\n\u001B[0;32m--> 943\u001B[0m     \u001B[38;5;28;01mreturn\u001B[39;00m \u001B[43mSSNMF_N\u001B[49m\u001B[38;5;241;43m.\u001B[39;49m\u001B[43mmult\u001B[49m\u001B[43m(\u001B[49m\u001B[38;5;28;43mself\u001B[39;49m\u001B[43m,\u001B[49m\u001B[43m \u001B[49m\u001B[38;5;241;43m*\u001B[39;49m\u001B[38;5;241;43m*\u001B[39;49m\u001B[43mkwargs\u001B[49m\u001B[43m)\u001B[49m\n\u001B[1;32m    944\u001B[0m \u001B[38;5;28;01mif\u001B[39;00m \u001B[38;5;28mself\u001B[39m\u001B[38;5;241m.\u001B[39mstr \u001B[38;5;241m==\u001B[39m \u001B[38;5;124m\"\u001B[39m\u001B[38;5;124mtorch\u001B[39m\u001B[38;5;124m\"\u001B[39m:\n\u001B[1;32m    945\u001B[0m     \u001B[38;5;28;01mreturn\u001B[39;00m SSNMF_T\u001B[38;5;241m.\u001B[39mmult(\u001B[38;5;28mself\u001B[39m, \u001B[38;5;241m*\u001B[39m\u001B[38;5;241m*\u001B[39mkwargs)\n",
      "File \u001B[0;32m~/.pyenv/versions/3.9.5/lib/python3.8/site-packages/ssnmf/ssnmf.py:162\u001B[0m, in \u001B[0;36mSSNMF_N.mult\u001B[0;34m(self, **kwargs)\u001B[0m\n\u001B[1;32m    160\u001B[0m \u001B[38;5;28;01mif\u001B[39;00m \u001B[38;5;28mself\u001B[39m\u001B[38;5;241m.\u001B[39mmodelNum \u001B[38;5;241m==\u001B[39m \u001B[38;5;241m3\u001B[39m:\n\u001B[1;32m    161\u001B[0m     \u001B[38;5;28mself\u001B[39m\u001B[38;5;241m.\u001B[39mA \u001B[38;5;241m=\u001B[39m \u001B[38;5;28mself\u001B[39m\u001B[38;5;241m.\u001B[39mdictupdateFro(\u001B[38;5;28mself\u001B[39m\u001B[38;5;241m.\u001B[39mX, \u001B[38;5;28mself\u001B[39m\u001B[38;5;241m.\u001B[39mA, \u001B[38;5;28mself\u001B[39m\u001B[38;5;241m.\u001B[39mS, \u001B[38;5;28mself\u001B[39m\u001B[38;5;241m.\u001B[39mW, eps)\n\u001B[0;32m--> 162\u001B[0m     \u001B[38;5;28mself\u001B[39m\u001B[38;5;241m.\u001B[39mB \u001B[38;5;241m=\u001B[39m \u001B[38;5;28;43mself\u001B[39;49m\u001B[38;5;241;43m.\u001B[39;49m\u001B[43mdictupdateFro\u001B[49m\u001B[43m(\u001B[49m\u001B[38;5;28;43mself\u001B[39;49m\u001B[38;5;241;43m.\u001B[39;49m\u001B[43mY\u001B[49m\u001B[43m,\u001B[49m\u001B[43m \u001B[49m\u001B[38;5;28;43mself\u001B[39;49m\u001B[38;5;241;43m.\u001B[39;49m\u001B[43mB\u001B[49m\u001B[43m,\u001B[49m\u001B[43m \u001B[49m\u001B[38;5;28;43mself\u001B[39;49m\u001B[38;5;241;43m.\u001B[39;49m\u001B[43mS\u001B[49m\u001B[43m,\u001B[49m\u001B[43m \u001B[49m\u001B[38;5;28;43mself\u001B[39;49m\u001B[38;5;241;43m.\u001B[39;49m\u001B[43mL\u001B[49m\u001B[43m,\u001B[49m\u001B[43m \u001B[49m\u001B[43meps\u001B[49m\u001B[43m)\u001B[49m\n\u001B[1;32m    163\u001B[0m     \u001B[38;5;28mself\u001B[39m\u001B[38;5;241m.\u001B[39mS \u001B[38;5;241m=\u001B[39m \u001B[38;5;28mself\u001B[39m\u001B[38;5;241m.\u001B[39mrepupdateFF(eps)\n\u001B[1;32m    165\u001B[0m     previousErr \u001B[38;5;241m=\u001B[39m currentErr\n",
      "File \u001B[0;32m~/.pyenv/versions/3.9.5/lib/python3.8/site-packages/ssnmf/ssnmf.py:265\u001B[0m, in \u001B[0;36mSSNMF_N.dictupdateFro\u001B[0;34m(self, Z, D, R, M, eps)\u001B[0m\n\u001B[1;32m    243\u001B[0m \u001B[38;5;28;01mdef\u001B[39;00m \u001B[38;5;21mdictupdateFro\u001B[39m(\u001B[38;5;28mself\u001B[39m, Z, D, R, M, eps):\n\u001B[1;32m    244\u001B[0m     \u001B[38;5;124;03m'''\u001B[39;00m\n\u001B[1;32m    245\u001B[0m \u001B[38;5;124;03m    multiplicitive update for D and R in ||Z - DR||_F^2\u001B[39;00m\n\u001B[1;32m    246\u001B[0m \u001B[38;5;124;03m    Parameters\u001B[39;00m\n\u001B[0;32m   (...)\u001B[0m\n\u001B[1;32m    260\u001B[0m \u001B[38;5;124;03m    updated D or the transpose of updated R\u001B[39;00m\n\u001B[1;32m    261\u001B[0m \u001B[38;5;124;03m    '''\u001B[39;00m\n\u001B[1;32m    263\u001B[0m     \u001B[38;5;28;01mreturn\u001B[39;00m  np\u001B[38;5;241m.\u001B[39mmultiply(\n\u001B[1;32m    264\u001B[0m             np\u001B[38;5;241m.\u001B[39mdivide(D, eps \u001B[38;5;241m+\u001B[39m np\u001B[38;5;241m.\u001B[39mmultiply(M, D\u001B[38;5;129m@R\u001B[39m) \u001B[38;5;241m@\u001B[39m np\u001B[38;5;241m.\u001B[39mtranspose(R)), \\\n\u001B[0;32m--> 265\u001B[0m             \u001B[43mnp\u001B[49m\u001B[38;5;241;43m.\u001B[39;49m\u001B[43mmultiply\u001B[49m\u001B[43m(\u001B[49m\u001B[43mM\u001B[49m\u001B[43m,\u001B[49m\u001B[43m \u001B[49m\u001B[43mZ\u001B[49m\u001B[43m)\u001B[49m\u001B[43m \u001B[49m\u001B[38;5;241;43m@\u001B[39;49m\u001B[43m \u001B[49m\u001B[43mnp\u001B[49m\u001B[38;5;241;43m.\u001B[39;49m\u001B[43mtranspose\u001B[49m\u001B[43m(\u001B[49m\u001B[43mR\u001B[49m\u001B[43m)\u001B[49m)\n",
      "\u001B[0;31mKeyboardInterrupt\u001B[0m: "
     ]
    }
   ],
   "source": [
    "from sklearn.model_selection import StratifiedKFold, cross_val_score\n",
    "from ssnmf import SSNMF\n",
    "\n",
    "skf = StratifiedKFold(n_splits=5)\n",
    "\n",
    "X, y = data_arrays(df)\n",
    "skf.get_n_splits(X, y)\n",
    "\n",
    "k = 12\n",
    "lam = 50\n",
    "fraction_known = 0.1\n",
    "\n",
    "for lam in (0, 0.001, 0.5, 0.1, 0.5, 1, 10, 100, 500, 1000, 5000):\n",
    "    for train_index, test_index in skf.split(X, y):\n",
    "        X_train_T, X_test_T = X[train_index], X[test_index]\n",
    "        y_train, y_test = y[train_index], y[test_index]\n",
    "        Y_train = get_Y(X_train_T.T, y_train)\n",
    "        L_train = get_L(Y_train, fraction_known=fraction_known)\n",
    "        #print(f\"norm X {np.linalg.norm(X_train_T)}\")\n",
    "        snmf = SSNMF(X_train_T.T, k, L=L_train, Y=Y_train, lam=lam * np.linalg.norm(X_train_T), modelNum=3)\n",
    "        snmf.mult(numiters=1000)\n",
    "        y_pred = np.argmax(snmf.S, axis=0)\n",
    "        score = metrics.rand_score(y_train, y_pred)\n",
    "        print(f'lambda {lam} score {score}')\n",
    "\n",
    "\n",
    "# #"
   ],
   "metadata": {
    "collapsed": false
   }
  },
  {
   "cell_type": "code",
   "execution_count": null,
   "outputs": [],
   "source": [
    "print(metrics.completeness_score(Labels, np.argmax(model.S, axis=0)))\n",
    "print(metrics.homogeneity_score(Labels, np.argmax(model.S, axis=0)))"
   ],
   "metadata": {
    "collapsed": false
   }
  },
  {
   "cell_type": "code",
   "execution_count": 198,
   "outputs": [
    {
     "data": {
      "text/plain": "array([[83868909.0, 3675920.0, 986.0, ..., 95502143.0, 166023.0,\n        102585716.0],\n       [8.0, 4.0, 7.0, ..., 8.0, 4.0, 13.0],\n       [7.0, 0.0, 0.0, ..., 4.0, 0.0, 6.0],\n       ...,\n       [50000000.0, 0.0, 0.0, ..., 59600000.0, 0.0, 0.0],\n       [76400000.0, 0.0, 0.0, ..., 89800000.0, 0.0, 99200000.0],\n       [5738681.0, 0.0, 0.0, ..., 5557884.0, 0.0, 99200000.0]],\n      dtype=object)"
     },
     "execution_count": 198,
     "metadata": {},
     "output_type": "execute_result"
    }
   ],
   "source": [],
   "metadata": {
    "collapsed": false
   }
  },
  {
   "cell_type": "code",
   "execution_count": null,
   "outputs": [],
   "source": [],
   "metadata": {
    "collapsed": false
   }
  }
 ],
 "metadata": {
  "kernelspec": {
   "display_name": "Python 3",
   "language": "python",
   "name": "python3"
  },
  "language_info": {
   "codemirror_mode": {
    "name": "ipython",
    "version": 2
   },
   "file_extension": ".py",
   "mimetype": "text/x-python",
   "name": "python",
   "nbconvert_exporter": "python",
   "pygments_lexer": "ipython2",
   "version": "2.7.6"
  }
 },
 "nbformat": 4,
 "nbformat_minor": 0
}
