{
 "cells": [
  {
   "cell_type": "code",
   "execution_count": 1,
   "metadata": {
    "collapsed": true
   },
   "outputs": [],
   "source": [
    "from pathlib import Path\n",
    "\n",
    "import matplotlib.pyplot as plt\n",
    "import pandas as pd\n",
    "from sklearn.model_selection import GridSearchCV\n",
    "from sklearn.model_selection import train_test_split\n",
    "from sklearn.ensemble import RandomForestClassifier\n",
    "import os\n",
    "import csv\n",
    "import datetime as dt\n",
    "import numpy as np\n",
    "from sklearn.model_selection import RandomizedSearchCV"
   ]
  },
  {
   "cell_type": "code",
   "execution_count": 2,
   "outputs": [],
   "source": [
    "from network_analyze.utils import dateparse\n",
    "\n",
    "DATA_DIR = Path('DATA')\n",
    "dfile = DATA_DIR/'Wednesday-workingHours.pcap_ISCX.csv'\n",
    "#dfile = DATA_DIR/'Tuesday-WorkingHours.pcap_ISCX.csv'\n",
    "df = pd.read_csv(dfile, index_col=False, parse_dates=[' Timestamp'])\n",
    "df = df.rename(columns=lambda x: x.strip())\n",
    "#df = df[(df['Timestamp']> dt.datetime(2017,7,5,10, 10)) & (df['Timestamp'] < dt.datetime(2017,7,5,10,30))]\n",
    "#df=df[(df['Label']!='DoS slowloris')]"
   ],
   "metadata": {
    "collapsed": false
   }
  },
  {
   "cell_type": "code",
   "execution_count": 3,
   "outputs": [
    {
     "ename": "ValueError",
     "evalue": "time data '0   2017-05-07 08:42:00\\nName: Timestamp, dtype: datetime64[ns]' does not match format '%d/%m/%Y %H:%M'",
     "output_type": "error",
     "traceback": [
      "\u001B[0;31m---------------------------------------------------------------------------\u001B[0m",
      "\u001B[0;31mValueError\u001B[0m                                Traceback (most recent call last)",
      "File \u001B[0;32m~/NASK/network_analyze/network_analyze/utils.py:8\u001B[0m, in \u001B[0;36mdateparse\u001B[0;34m(date)\u001B[0m\n\u001B[1;32m      7\u001B[0m \u001B[38;5;28;01mtry\u001B[39;00m:\n\u001B[0;32m----> 8\u001B[0m     \u001B[38;5;28;01mreturn\u001B[39;00m \u001B[43mdt\u001B[49m\u001B[38;5;241;43m.\u001B[39;49m\u001B[43mdatetime\u001B[49m\u001B[38;5;241;43m.\u001B[39;49m\u001B[43mstrptime\u001B[49m\u001B[43m(\u001B[49m\u001B[43mdate\u001B[49m\u001B[43m,\u001B[49m\u001B[43m \u001B[49m\u001B[38;5;124;43m'\u001B[39;49m\u001B[38;5;124;43m%\u001B[39;49m\u001B[38;5;124;43mY-\u001B[39;49m\u001B[38;5;124;43m%\u001B[39;49m\u001B[38;5;124;43mm-\u001B[39;49m\u001B[38;5;132;43;01m%d\u001B[39;49;00m\u001B[38;5;124;43m \u001B[39;49m\u001B[38;5;124;43m%\u001B[39;49m\u001B[38;5;124;43mH:\u001B[39;49m\u001B[38;5;124;43m%\u001B[39;49m\u001B[38;5;124;43mM:\u001B[39;49m\u001B[38;5;124;43m%\u001B[39;49m\u001B[38;5;124;43mS\u001B[39;49m\u001B[38;5;124;43m'\u001B[39;49m\u001B[43m)\u001B[49m\n\u001B[1;32m     10\u001B[0m \u001B[38;5;28;01mexcept\u001B[39;00m:\n",
      "File \u001B[0;32m/usr/lib/python3.8/_strptime.py:568\u001B[0m, in \u001B[0;36m_strptime_datetime\u001B[0;34m(cls, data_string, format)\u001B[0m\n\u001B[1;32m    566\u001B[0m \u001B[38;5;124;03m\"\"\"Return a class cls instance based on the input string and the\u001B[39;00m\n\u001B[1;32m    567\u001B[0m \u001B[38;5;124;03mformat string.\"\"\"\u001B[39;00m\n\u001B[0;32m--> 568\u001B[0m tt, fraction, gmtoff_fraction \u001B[38;5;241m=\u001B[39m \u001B[43m_strptime\u001B[49m\u001B[43m(\u001B[49m\u001B[43mdata_string\u001B[49m\u001B[43m,\u001B[49m\u001B[43m \u001B[49m\u001B[38;5;28;43mformat\u001B[39;49m\u001B[43m)\u001B[49m\n\u001B[1;32m    569\u001B[0m tzname, gmtoff \u001B[38;5;241m=\u001B[39m tt[\u001B[38;5;241m-\u001B[39m\u001B[38;5;241m2\u001B[39m:]\n",
      "File \u001B[0;32m/usr/lib/python3.8/_strptime.py:349\u001B[0m, in \u001B[0;36m_strptime\u001B[0;34m(data_string, format)\u001B[0m\n\u001B[1;32m    348\u001B[0m \u001B[38;5;28;01mif\u001B[39;00m \u001B[38;5;129;01mnot\u001B[39;00m found:\n\u001B[0;32m--> 349\u001B[0m     \u001B[38;5;28;01mraise\u001B[39;00m \u001B[38;5;167;01mValueError\u001B[39;00m(\u001B[38;5;124m\"\u001B[39m\u001B[38;5;124mtime data \u001B[39m\u001B[38;5;132;01m%r\u001B[39;00m\u001B[38;5;124m does not match format \u001B[39m\u001B[38;5;132;01m%r\u001B[39;00m\u001B[38;5;124m\"\u001B[39m \u001B[38;5;241m%\u001B[39m\n\u001B[1;32m    350\u001B[0m                      (data_string, \u001B[38;5;28mformat\u001B[39m))\n\u001B[1;32m    351\u001B[0m \u001B[38;5;28;01mif\u001B[39;00m \u001B[38;5;28mlen\u001B[39m(data_string) \u001B[38;5;241m!=\u001B[39m found\u001B[38;5;241m.\u001B[39mend():\n",
      "\u001B[0;31mValueError\u001B[0m: time data '0   2017-05-07 08:42:00\\nName: Timestamp, dtype: datetime64[ns]' does not match format '%Y-%m-%d %H:%M:%S'",
      "\nDuring handling of the above exception, another exception occurred:\n",
      "\u001B[0;31mValueError\u001B[0m                                Traceback (most recent call last)",
      "Cell \u001B[0;32mIn [3], line 4\u001B[0m\n\u001B[1;32m      1\u001B[0m \u001B[38;5;28;01mfrom\u001B[39;00m \u001B[38;5;21;01mnetwork_analyze\u001B[39;00m\u001B[38;5;21;01m.\u001B[39;00m\u001B[38;5;21;01mutils\u001B[39;00m \u001B[38;5;28;01mimport\u001B[39;00m dateparse\n\u001B[0;32m----> 4\u001B[0m \u001B[43mdateparse\u001B[49m\u001B[43m(\u001B[49m\u001B[38;5;28;43mstr\u001B[39;49m\u001B[43m(\u001B[49m\u001B[43mdf\u001B[49m\u001B[38;5;241;43m.\u001B[39;49m\u001B[43mhead\u001B[49m\u001B[43m(\u001B[49m\u001B[38;5;241;43m1\u001B[39;49m\u001B[43m)\u001B[49m\u001B[43m[\u001B[49m\u001B[38;5;124;43m'\u001B[39;49m\u001B[38;5;124;43mTimestamp\u001B[39;49m\u001B[38;5;124;43m'\u001B[39;49m\u001B[43m]\u001B[49m\u001B[43m)\u001B[49m\u001B[43m)\u001B[49m\n",
      "File \u001B[0;32m~/NASK/network_analyze/network_analyze/utils.py:11\u001B[0m, in \u001B[0;36mdateparse\u001B[0;34m(date)\u001B[0m\n\u001B[1;32m      8\u001B[0m     \u001B[38;5;28;01mreturn\u001B[39;00m dt\u001B[38;5;241m.\u001B[39mdatetime\u001B[38;5;241m.\u001B[39mstrptime(date, \u001B[38;5;124m'\u001B[39m\u001B[38;5;124m%\u001B[39m\u001B[38;5;124mY-\u001B[39m\u001B[38;5;124m%\u001B[39m\u001B[38;5;124mm-\u001B[39m\u001B[38;5;132;01m%d\u001B[39;00m\u001B[38;5;124m \u001B[39m\u001B[38;5;124m%\u001B[39m\u001B[38;5;124mH:\u001B[39m\u001B[38;5;124m%\u001B[39m\u001B[38;5;124mM:\u001B[39m\u001B[38;5;124m%\u001B[39m\u001B[38;5;124mS\u001B[39m\u001B[38;5;124m'\u001B[39m)\n\u001B[1;32m     10\u001B[0m \u001B[38;5;28;01mexcept\u001B[39;00m:\n\u001B[0;32m---> 11\u001B[0m     \u001B[38;5;28;01mreturn\u001B[39;00m \u001B[43mdt\u001B[49m\u001B[38;5;241;43m.\u001B[39;49m\u001B[43mdatetime\u001B[49m\u001B[38;5;241;43m.\u001B[39;49m\u001B[43mstrptime\u001B[49m\u001B[43m(\u001B[49m\u001B[43mdate\u001B[49m\u001B[43m,\u001B[49m\u001B[43m \u001B[49m\u001B[38;5;124;43m'\u001B[39;49m\u001B[38;5;132;43;01m%d\u001B[39;49;00m\u001B[38;5;124;43m/\u001B[39;49m\u001B[38;5;124;43m%\u001B[39;49m\u001B[38;5;124;43mm/\u001B[39;49m\u001B[38;5;124;43m%\u001B[39;49m\u001B[38;5;124;43mY \u001B[39;49m\u001B[38;5;124;43m%\u001B[39;49m\u001B[38;5;124;43mH:\u001B[39;49m\u001B[38;5;124;43m%\u001B[39;49m\u001B[38;5;124;43mM\u001B[39;49m\u001B[38;5;124;43m'\u001B[39;49m\u001B[43m)\u001B[49m\n",
      "File \u001B[0;32m/usr/lib/python3.8/_strptime.py:568\u001B[0m, in \u001B[0;36m_strptime_datetime\u001B[0;34m(cls, data_string, format)\u001B[0m\n\u001B[1;32m    565\u001B[0m \u001B[38;5;28;01mdef\u001B[39;00m \u001B[38;5;21m_strptime_datetime\u001B[39m(\u001B[38;5;28mcls\u001B[39m, data_string, \u001B[38;5;28mformat\u001B[39m\u001B[38;5;241m=\u001B[39m\u001B[38;5;124m\"\u001B[39m\u001B[38;5;132;01m%a\u001B[39;00m\u001B[38;5;124m \u001B[39m\u001B[38;5;124m%\u001B[39m\u001B[38;5;124mb \u001B[39m\u001B[38;5;132;01m%d\u001B[39;00m\u001B[38;5;124m \u001B[39m\u001B[38;5;124m%\u001B[39m\u001B[38;5;124mH:\u001B[39m\u001B[38;5;124m%\u001B[39m\u001B[38;5;124mM:\u001B[39m\u001B[38;5;124m%\u001B[39m\u001B[38;5;124mS \u001B[39m\u001B[38;5;124m%\u001B[39m\u001B[38;5;124mY\u001B[39m\u001B[38;5;124m\"\u001B[39m):\n\u001B[1;32m    566\u001B[0m     \u001B[38;5;124;03m\"\"\"Return a class cls instance based on the input string and the\u001B[39;00m\n\u001B[1;32m    567\u001B[0m \u001B[38;5;124;03m    format string.\"\"\"\u001B[39;00m\n\u001B[0;32m--> 568\u001B[0m     tt, fraction, gmtoff_fraction \u001B[38;5;241m=\u001B[39m \u001B[43m_strptime\u001B[49m\u001B[43m(\u001B[49m\u001B[43mdata_string\u001B[49m\u001B[43m,\u001B[49m\u001B[43m \u001B[49m\u001B[38;5;28;43mformat\u001B[39;49m\u001B[43m)\u001B[49m\n\u001B[1;32m    569\u001B[0m     tzname, gmtoff \u001B[38;5;241m=\u001B[39m tt[\u001B[38;5;241m-\u001B[39m\u001B[38;5;241m2\u001B[39m:]\n\u001B[1;32m    570\u001B[0m     args \u001B[38;5;241m=\u001B[39m tt[:\u001B[38;5;241m6\u001B[39m] \u001B[38;5;241m+\u001B[39m (fraction,)\n",
      "File \u001B[0;32m/usr/lib/python3.8/_strptime.py:349\u001B[0m, in \u001B[0;36m_strptime\u001B[0;34m(data_string, format)\u001B[0m\n\u001B[1;32m    347\u001B[0m found \u001B[38;5;241m=\u001B[39m format_regex\u001B[38;5;241m.\u001B[39mmatch(data_string)\n\u001B[1;32m    348\u001B[0m \u001B[38;5;28;01mif\u001B[39;00m \u001B[38;5;129;01mnot\u001B[39;00m found:\n\u001B[0;32m--> 349\u001B[0m     \u001B[38;5;28;01mraise\u001B[39;00m \u001B[38;5;167;01mValueError\u001B[39;00m(\u001B[38;5;124m\"\u001B[39m\u001B[38;5;124mtime data \u001B[39m\u001B[38;5;132;01m%r\u001B[39;00m\u001B[38;5;124m does not match format \u001B[39m\u001B[38;5;132;01m%r\u001B[39;00m\u001B[38;5;124m\"\u001B[39m \u001B[38;5;241m%\u001B[39m\n\u001B[1;32m    350\u001B[0m                      (data_string, \u001B[38;5;28mformat\u001B[39m))\n\u001B[1;32m    351\u001B[0m \u001B[38;5;28;01mif\u001B[39;00m \u001B[38;5;28mlen\u001B[39m(data_string) \u001B[38;5;241m!=\u001B[39m found\u001B[38;5;241m.\u001B[39mend():\n\u001B[1;32m    352\u001B[0m     \u001B[38;5;28;01mraise\u001B[39;00m \u001B[38;5;167;01mValueError\u001B[39;00m(\u001B[38;5;124m\"\u001B[39m\u001B[38;5;124munconverted data remains: \u001B[39m\u001B[38;5;132;01m%s\u001B[39;00m\u001B[38;5;124m\"\u001B[39m \u001B[38;5;241m%\u001B[39m\n\u001B[1;32m    353\u001B[0m                       data_string[found\u001B[38;5;241m.\u001B[39mend():])\n",
      "\u001B[0;31mValueError\u001B[0m: time data '0   2017-05-07 08:42:00\\nName: Timestamp, dtype: datetime64[ns]' does not match format '%d/%m/%Y %H:%M'"
     ]
    }
   ],
   "source": [
    "from network_analyze.utils import dateparse\n",
    "\n",
    "\n",
    "dateparse(str(df.head(1)['Timestamp']))"
   ],
   "metadata": {
    "collapsed": false
   }
  },
  {
   "cell_type": "code",
   "execution_count": null,
   "outputs": [],
   "source": [
    "#df[df.Label=='DoS slowloris'] 2017-07-05 09:48:00\n",
    "df = df[(df['Timestamp']> dt.datetime(2017,7,5,9, 30)) & (df['Timestamp']< dt.datetime(2017,7,5,10, 30))]\n",
    "#df = df[(df['Label'] == 'BENIGN')].head(2000)"
   ],
   "metadata": {
    "collapsed": false
   }
  },
  {
   "cell_type": "code",
   "execution_count": null,
   "outputs": [],
   "source": [
    "quant_cols =  ['Flow Duration',\n",
    "       'Total Fwd Packets', 'Total Backward Packets',\n",
    "       'Total Length of Fwd Packets', 'Total Length of Bwd Packets',\n",
    "       'Fwd Packet Length Max', 'Fwd Packet Length Min',\n",
    "       'Fwd Packet Length Mean', 'Fwd Packet Length Std',\n",
    "       'Bwd Packet Length Max', 'Bwd Packet Length Min',\n",
    "       'Bwd Packet Length Mean', 'Bwd Packet Length Std', 'Flow Bytes/s',\n",
    "       'Flow Packets/s', 'Flow IAT Mean', 'Flow IAT Std', 'Flow IAT Max',\n",
    "       'Flow IAT Min', 'Fwd IAT Total', 'Fwd IAT Mean', 'Fwd IAT Std',\n",
    "       'Fwd IAT Max', 'Fwd IAT Min', 'Bwd IAT Total', 'Bwd IAT Mean',\n",
    "       'Bwd IAT Std', 'Bwd IAT Max', 'Bwd IAT Min', 'Fwd PSH Flags',\n",
    "       'Bwd PSH Flags', 'Fwd URG Flags', 'Bwd URG Flags', 'Fwd Header Length',\n",
    "       'Bwd Header Length', 'Fwd Packets/s', 'Bwd Packets/s',\n",
    "       'Min Packet Length', 'Max Packet Length', 'Packet Length Mean',\n",
    "       'Packet Length Std', 'Packet Length Variance', 'FIN Flag Count',   'SYN Flag Count', 'RST Flag Count', 'PSH Flag Count', 'ACK Flag Count',\n",
    "       'URG Flag Count', 'CWE Flag Count', 'ECE Flag Count', 'Down/Up Ratio',\n",
    "       'Average Packet Size', 'Avg Fwd Segment Size', 'Avg Bwd Segment Size',\n",
    "       'Fwd Header Length.1', 'Fwd Avg Bytes/Bulk', 'Fwd Avg Packets/Bulk',\n",
    "       'Fwd Avg Bulk Rate', 'Bwd Avg Bytes/Bulk', 'Bwd Avg Packets/Bulk',\n",
    "       'Bwd Avg Bulk Rate', 'Subflow Fwd Packets', 'Subflow Fwd Bytes',\n",
    "       'Subflow Bwd Packets', 'Subflow Bwd Bytes', 'Init_Win_bytes_forward',\n",
    "       'Init_Win_bytes_backward', 'act_data_pkt_fwd', 'min_seg_size_forward','Active Mean', 'Active Std', 'Active Max', 'Active Min', 'Idle Mean',\n",
    "       'Idle Std', 'Idle Max', 'Idle Min']\n",
    "\n",
    "SELECTED_COLS = [\"Bwd Packets/s\", \"Flow Packets/s\", \"Flow IAT Mean\", \"Flow IAT Mean\", \"Bwd IAT Max\"]"
   ],
   "metadata": {
    "collapsed": false
   }
  },
  {
   "cell_type": "code",
   "execution_count": 519,
   "outputs": [],
   "source": [
    "from network_analyze.conf import QUANT_COLS\n",
    "import fbpca\n",
    "#na razie pomijam wartosci nan i inf\n",
    "COLS = quant_cols + ['Label']\n",
    "df = df[COLS]\n",
    "df.replace([np.inf, -np.inf], np.nan, inplace=True)\n",
    "df = df[df.select_dtypes(include=[np.number]).ge(0).all(1)]\n",
    "df = df.dropna()\n",
    "#df = df[df['Label'] != 'BENIGN']\n",
    "M = df.to_numpy()\n",
    "Labels = M[:, -1]\n",
    "M = M[:, :-1]\n",
    "M_train, M_test, Labels_train, Labels_test = train_test_split(M, Labels, test_size=0.3, random_state=0)\n",
    "#fbpca.pca(M, raw=True)\n",
    "M = M.astype(float)"
   ],
   "metadata": {
    "collapsed": false
   }
  },
  {
   "cell_type": "code",
   "execution_count": 520,
   "outputs": [
    {
     "data": {
      "text/plain": "Label\nBENIGN              9608\nDoS Slowhttptest    1812\nDoS slowloris          2\nName: Label, dtype: int64"
     },
     "execution_count": 520,
     "metadata": {},
     "output_type": "execute_result"
    }
   ],
   "source": [
    "df.Label.unique()\n",
    "df.groupby('Label')['Label'].count()"
   ],
   "metadata": {
    "collapsed": false
   }
  },
  {
   "cell_type": "code",
   "execution_count": 521,
   "outputs": [],
   "source": [
    "import fbpca\n",
    "TOL=1e-9\n",
    "MAX_ITERS=3\n",
    "\n",
    "def converged(Z, d_norm):\n",
    "    err = np.linalg.norm(Z, 'fro') / d_norm\n",
    "    print('error: ', err)\n",
    "    return err < TOL\n",
    "\n",
    "def shrink(M, tau):\n",
    "    S = np.abs(M) - tau\n",
    "    return np.sign(M) * np.where(S>0, S, 0)\n",
    "\n",
    "def norm_op(M): return _svd(M, 1)[1][0]\n",
    "def _svd(M, rank):\n",
    "       return fbpca.pca(M, k=min(rank, np.min(M.shape)), raw=True)\n",
    "\n",
    "def svd_reconstruct(M, rank, min_sv):\n",
    "    u, s, v = _svd(M, rank)\n",
    "    s -= min_sv\n",
    "    nnz = (s > 0).sum()\n",
    "    return u[:,:nnz] @ np.diag(s[:nnz]) @ v[:nnz], nnz"
   ],
   "metadata": {
    "collapsed": false
   }
  },
  {
   "cell_type": "code",
   "execution_count": 522,
   "outputs": [],
   "source": [
    "import numpy as np\n",
    "\n",
    "\n",
    "\n",
    "def pcp(X, maxiter=10, k=10): # refactored\n",
    "    m, n = X.shape\n",
    "    trans = m<n\n",
    "    if trans: X = X.T; m, n = X.shape\n",
    "\n",
    "    lamda = 1/np.sqrt(m)\n",
    "    op_norm = norm_op(X)\n",
    "    Y = np.copy(X) / max(op_norm, np.linalg.norm( X, np.inf) / lamda)\n",
    "    mu = k*1.25/op_norm; mu_bar = mu * 1e7; rho = k * 1.5\n",
    "\n",
    "    d_norm = np.linalg.norm(X, 'fro')\n",
    "    L = np.zeros_like(X); sv = 1\n",
    "\n",
    "    examples = []\n",
    "\n",
    "    for i in range(maxiter):\n",
    "        print(\"rank sv:\", sv)\n",
    "        X2 = X + Y/mu\n",
    "\n",
    "        # update estimate of Sparse Matrix by \"shrinking/truncating\": original - low-rank\n",
    "        S = shrink(X2 - L, lamda/mu)\n",
    "\n",
    "        # update estimate of Low-rank Matrix by doing truncated SVD of rank sv & reconstructing.\n",
    "        # count of singular values > 1/mu is returned as svp\n",
    "        L, svp = svd_reconstruct(X2 - S, sv, 1/mu)\n",
    "\n",
    "        # If svp < sv, you are already calculating enough singular values.\n",
    "        # If not, add 20% (in this case 240) to sv\n",
    "        sv = svp + (1 if svp < sv else round(0.05*n))\n",
    "\n",
    "        # residual\n",
    "        Z = X - L - S\n",
    "        Y += mu*Z; mu *= rho\n",
    "\n",
    "        examples.extend([S[140,:], L[140,:]])\n",
    "\n",
    "        if m > mu_bar: m = mu_bar\n",
    "        if converged(Z, d_norm): break\n",
    "\n",
    "    if trans: L=L.T; S=S.T\n",
    "    return L, S, examples"
   ],
   "metadata": {
    "collapsed": false
   }
  },
  {
   "cell_type": "code",
   "execution_count": 523,
   "outputs": [],
   "source": [
    "def pcp(X, maxiter=10, k=10): # refactored\n",
    "    m, n = X.shape\n",
    "    trans = m<n\n",
    "    if trans: X = X.T; m, n = X.shape\n",
    "\n",
    "    lamda = 1/np.sqrt(m)\n",
    "    op_norm = norm_op(X)\n",
    "    Y = np.copy(X) / max(op_norm, np.linalg.norm( X, np.inf) / lamda)\n",
    "    mu = k*1.25/op_norm; mu_bar = mu * 1e7; rho = k * 1.5\n",
    "\n",
    "    d_norm = np.linalg.norm(X, 'fro')\n",
    "    L = np.zeros_like(X); sv = 1\n",
    "\n",
    "    examples = []\n",
    "\n",
    "    for i in range(maxiter):\n",
    "        print(\"rank sv:\", sv)\n",
    "        X2 = X + Y/mu\n",
    "\n",
    "        # update estimate of Sparse Matrix by \"shrinking/truncating\": original - low-rank\n",
    "        S = shrink(X2 - L, lamda/mu)\n",
    "\n",
    "        # update estimate of Low-rank Matrix by doing truncated SVD of rank sv & reconstructing.\n",
    "        # count of singular values > 1/mu is returned as svp\n",
    "        L, svp = svd_reconstruct(X2 - S, sv, 1/mu)\n",
    "\n",
    "        # If svp < sv, you are already calculating enough singular values.\n",
    "        # If not, add 20% (in this case 240) to sv\n",
    "        sv = svp + (1 if svp < sv else round(0.05*n))\n",
    "\n",
    "        # residual\n",
    "        Z = X - L - S\n",
    "        Y += mu*Z; mu *= rho\n",
    "\n",
    "        examples.extend([S[140,:], L[140,:]])\n",
    "\n",
    "        if m > mu_bar: m = mu_bar\n",
    "        if converged(Z, d_norm): break\n",
    "\n",
    "    if trans: L=L.T; S=S.T\n",
    "    return L, S, examples"
   ],
   "metadata": {
    "collapsed": false
   }
  },
  {
   "cell_type": "code",
   "execution_count": 524,
   "outputs": [
    {
     "name": "stdout",
     "output_type": "stream",
     "text": [
      "rank sv: 1\n",
      "error:  0.02275690226350009\n",
      "rank sv: 5\n",
      "error:  0.0004451012913801452\n",
      "rank sv: 5\n",
      "error:  7.240554954934163e-06\n",
      "rank sv: 9\n",
      "error:  1.2676571706319222e-07\n",
      "rank sv: 13\n",
      "error:  1.4115625176851157e-09\n",
      "rank sv: 17\n",
      "error:  9.429036809204263e-12\n"
     ]
    }
   ],
   "source": [
    "from sklearn.preprocessing import StandardScaler\n",
    "\n",
    "# M = df.to_numpy()\n",
    "# M = M[~np.isnan(M).any(axis=1), :]\n",
    "# M = M[~np.isinf(M).any(axis=1), :]\n",
    "stc = StandardScaler()\n",
    "M_s = stc.fit_transform(M)\n",
    "fL, S, examples =  pcp(M, maxiter=100, k=47)"
   ],
   "metadata": {
    "collapsed": false
   }
  },
  {
   "cell_type": "code",
   "execution_count": 525,
   "outputs": [
    {
     "data": {
      "text/plain": "Label\nBENIGN              9608\nDoS Slowhttptest    1812\nDoS slowloris          2\nName: Label, dtype: int64"
     },
     "execution_count": 525,
     "metadata": {},
     "output_type": "execute_result"
    }
   ],
   "source": [
    "df.groupby(['Label'])['Label'].count()"
   ],
   "metadata": {
    "collapsed": false
   }
  },
  {
   "cell_type": "code",
   "execution_count": 526,
   "outputs": [
    {
     "data": {
      "text/plain": "array([[ 2.08486971e+06, -2.69571955e+00, -7.24640705e+00, ...,\n        -5.08382284e+04, -3.88772190e+05, -3.88772190e+05],\n       [ 7.47792780e+05, -3.60452825e+00, -7.11784227e+00, ...,\n        -1.26537907e+04, -1.33085818e+05, -1.33085818e+05],\n       [ 1.50642896e+06, -4.27787322e-01, -3.44103801e+00, ...,\n        -4.35065511e+04, -3.30665108e+05, -3.30665108e+05],\n       ...,\n       [-2.44877476e+02,  5.39299237e-02,  1.46822862e-01, ...,\n         1.16256324e+02,  2.49602196e+02,  2.49602196e+02],\n       [-5.23418594e+01,  1.59512319e+00,  1.60573475e-01, ...,\n         2.29461016e-01,  4.06770681e+01,  4.06770681e+01],\n       [ 1.53127640e+04, -1.23871244e+00, -4.24552138e-01, ...,\n         8.73476543e+02, -1.90659173e+03, -1.90659173e+03]])"
     },
     "execution_count": 526,
     "metadata": {},
     "output_type": "execute_result"
    }
   ],
   "source": [
    "S"
   ],
   "metadata": {
    "collapsed": false
   }
  },
  {
   "cell_type": "code",
   "execution_count": 527,
   "outputs": [
    {
     "name": "stdout",
     "output_type": "stream",
     "text": [
      "iteration: 1, error: 0.18425676030322632\n",
      "iteration: 100, error: 0.003700425401218279\n",
      "iteration: 200, error: 0.003126828566787836\n",
      "iteration: 300, error: 0.002765203184789247\n",
      "iteration: 400, error: 0.0020722542930895465\n",
      "iteration: 500, error: 0.0019267265351468924\n",
      "iteration: 600, error: 0.0020556844756875283\n",
      "iteration: 700, error: 0.0019102018830820884\n",
      "iteration: 800, error: 0.0021926164381292717\n",
      "iteration: 900, error: 0.0014999287729172337\n",
      "iteration: 1000, error: 0.0014214596640294342\n",
      "iteration: 1100, error: 0.0011662651813991241\n",
      "iteration: 1200, error: 0.0014685506754287358\n",
      "iteration: 1300, error: 0.0010857604196497666\n",
      "iteration: 1400, error: 0.0012098626077506499\n",
      "iteration: 1500, error: 0.0014993115944976474\n",
      "iteration: 1600, error: 0.0013682924543250781\n",
      "iteration: 1700, error: 0.0012388375730365126\n",
      "iteration: 1800, error: 0.0012865551058690572\n",
      "iteration: 1900, error: 0.0012700749954361907\n",
      "iteration: 2000, error: 0.0015663547407368324\n",
      "iteration: 2100, error: 0.0020139192678743584\n",
      "iteration: 2200, error: 0.0022466838586536154\n",
      "iteration: 2300, error: 0.002639960640621775\n",
      "iteration: 2400, error: 0.0017665631793986616\n",
      "iteration: 2500, error: 0.001814258812216651\n",
      "iteration: 2600, error: 0.0017417074612640726\n",
      "iteration: 2700, error: 0.0014909802284329983\n",
      "iteration: 2800, error: 0.0011253599186522736\n",
      "iteration: 2900, error: 0.0011861747411249365\n",
      "iteration: 3000, error: 0.0013293359918528978\n",
      "iteration: 3100, error: 0.001338225927102138\n",
      "iteration: 3200, error: 0.001690684831351072\n",
      "iteration: 3300, error: 0.001283023041934494\n",
      "iteration: 3400, error: 0.0009584109966685721\n",
      "iteration: 3500, error: 0.0007950467589451461\n",
      "iteration: 3600, error: 0.0007675485559947367\n",
      "iteration: 3700, error: 0.0006960791234135225\n",
      "iteration: 3800, error: 0.0006566589900311443\n",
      "iteration: 3900, error: 0.0006216141725808376\n",
      "iteration: 4000, error: 0.0006058091592050436\n",
      "iteration: 4100, error: 0.0005973506160212722\n",
      "iteration: 4200, error: 0.0005626455575473711\n",
      "iteration: 4300, error: 0.000649563472537787\n",
      "iteration: 4400, error: 0.000488748883841076\n",
      "iteration: 4500, error: 0.0005615320840376261\n",
      "iteration: 4600, error: 0.00045643777998967427\n",
      "iteration: 4700, error: 0.00041848076944330247\n",
      "iteration: 4800, error: 0.0003876602563150361\n",
      "iteration: 4900, error: 0.00034517550572537805\n",
      "iteration: 5000, error: 0.0003721392336202011\n",
      "iteration: 5100, error: 0.0003680313797885562\n",
      "iteration: 5200, error: 0.0005891379157592668\n",
      "iteration: 5300, error: 0.0003680658096319429\n",
      "iteration: 5400, error: 0.00035010792197453367\n",
      "iteration: 5500, error: 0.0003267868403526301\n",
      "iteration: 5600, error: 0.0004018918150262985\n",
      "iteration: 5700, error: 0.00041313048161883243\n",
      "iteration: 5800, error: 0.0004074815154480543\n",
      "iteration: 5900, error: 0.0003743345967776668\n",
      "iteration: 6000, error: 0.00038338812821571373\n",
      "iteration: 6100, error: 0.0003242179287650597\n",
      "iteration: 6200, error: 0.00032113577181673076\n",
      "iteration: 6300, error: 0.00029621322899945604\n",
      "iteration: 6400, error: 0.00031308738738039624\n",
      "iteration: 6500, error: 0.00026799262416481314\n",
      "iteration: 6600, error: 0.0002483954010998773\n",
      "iteration: 6700, error: 0.0002506705530480917\n",
      "iteration: 6800, error: 0.00025073748805910426\n",
      "iteration: 6900, error: 0.00028268103848046666\n",
      "iteration: 7000, error: 0.0002759712584610572\n",
      "iteration: 7100, error: 0.00027956608303212466\n",
      "iteration: 7200, error: 0.00024489905500640956\n",
      "iteration: 7300, error: 0.0002177858065330249\n",
      "iteration: 7400, error: 0.00026115086674351754\n",
      "iteration: 7500, error: 0.00023096013256753486\n",
      "iteration: 7600, error: 0.00021314499856709104\n",
      "iteration: 7700, error: 0.00022966019843533361\n",
      "iteration: 7800, error: 0.00019413135355123346\n",
      "iteration: 7900, error: 0.00019093423547068407\n",
      "iteration: 8000, error: 0.00017664284718011485\n",
      "iteration: 8100, error: 0.0002168494119464712\n",
      "iteration: 8200, error: 0.00017497350276463828\n",
      "iteration: 8300, error: 0.00017635797763411072\n",
      "iteration: 8400, error: 0.00017671583934711826\n",
      "iteration: 8500, error: 0.0002036415195192536\n",
      "iteration: 8600, error: 0.00021246475593904556\n",
      "iteration: 8700, error: 0.00017489293310933175\n",
      "iteration: 8800, error: 0.00017206668569873582\n",
      "iteration: 8900, error: 0.00017018527691687157\n",
      "iteration: 9000, error: 0.00016299369817543845\n",
      "iteration: 9100, error: 0.00014703271275876825\n",
      "iteration: 9200, error: 0.00014640628265080488\n",
      "iteration: 9300, error: 0.00014594933773969993\n",
      "iteration: 9400, error: 0.0001362288554835537\n",
      "iteration: 9500, error: 0.00013468603699115367\n",
      "iteration: 9600, error: 0.00012623767777448025\n",
      "iteration: 9700, error: 0.00013494436207808148\n",
      "iteration: 9800, error: 0.0001266876911760661\n",
      "iteration: 9900, error: 0.00012962261477274595\n",
      "iteration: 10000, error: 0.0001350532717240799\n"
     ]
    }
   ],
   "source": [
    "from network_analyze.rpca import R_pca\n",
    "rpca = R_pca(M_s)\n",
    "L, S = rpca.fit(max_iter=10000, iter_print=100)"
   ],
   "metadata": {
    "collapsed": false
   }
  },
  {
   "cell_type": "code",
   "execution_count": 528,
   "outputs": [
    {
     "data": {
      "text/plain": "-2.259766243683405"
     },
     "execution_count": 528,
     "metadata": {},
     "output_type": "execute_result"
    }
   ],
   "source": [
    "np.min(S)"
   ],
   "metadata": {
    "collapsed": false
   }
  },
  {
   "cell_type": "code",
   "execution_count": 529,
   "outputs": [],
   "source": [
    "from pandas import DataFrame\n",
    "\n",
    "\n",
    "output = DataFrame(np.vstack((np.linalg.norm(S\n",
    ", axis=1, ord=1), Labels)).T, columns = ['suma', 'label'])\n",
    "# output = DataFrame(np.vstack((np.linalg.norm(np.where(S>0.1, S, 0)\n",
    "# , axis=1, ord=1), Labels)).T, columns = ['suma', 'label'])\n",
    "\n",
    "output = DataFrame(np.vstack((np.max(S, axis=1), Labels)).T, columns = ['suma', 'label'])"
   ],
   "metadata": {
    "collapsed": false
   }
  },
  {
   "cell_type": "code",
   "execution_count": 530,
   "outputs": [
    {
     "data": {
      "text/plain": "array([1.11722852, 3.42284404, 1.93014336, ..., 4.3836706 , 1.35963796,\n       1.6865716 ])"
     },
     "execution_count": 530,
     "metadata": {},
     "output_type": "execute_result"
    }
   ],
   "source": [
    "S[S>1]"
   ],
   "metadata": {
    "collapsed": false
   }
  },
  {
   "cell_type": "code",
   "execution_count": 531,
   "outputs": [
    {
     "data": {
      "text/plain": "           suma             label\n6797   4.889407     DoS slowloris\n6798   4.889381     DoS slowloris\n6799   0.844596  DoS Slowhttptest\n6800   1.453307  DoS Slowhttptest\n6801   1.452572  DoS Slowhttptest\n...         ...               ...\n8606   1.762418  DoS Slowhttptest\n8607  39.747583  DoS Slowhttptest\n8608  60.803117  DoS Slowhttptest\n8609   5.421085  DoS Slowhttptest\n8610  39.747583  DoS Slowhttptest\n\n[1814 rows x 2 columns]",
      "text/html": "<div>\n<style scoped>\n    .dataframe tbody tr th:only-of-type {\n        vertical-align: middle;\n    }\n\n    .dataframe tbody tr th {\n        vertical-align: top;\n    }\n\n    .dataframe thead th {\n        text-align: right;\n    }\n</style>\n<table border=\"1\" class=\"dataframe\">\n  <thead>\n    <tr style=\"text-align: right;\">\n      <th></th>\n      <th>suma</th>\n      <th>label</th>\n    </tr>\n  </thead>\n  <tbody>\n    <tr>\n      <th>6797</th>\n      <td>4.889407</td>\n      <td>DoS slowloris</td>\n    </tr>\n    <tr>\n      <th>6798</th>\n      <td>4.889381</td>\n      <td>DoS slowloris</td>\n    </tr>\n    <tr>\n      <th>6799</th>\n      <td>0.844596</td>\n      <td>DoS Slowhttptest</td>\n    </tr>\n    <tr>\n      <th>6800</th>\n      <td>1.453307</td>\n      <td>DoS Slowhttptest</td>\n    </tr>\n    <tr>\n      <th>6801</th>\n      <td>1.452572</td>\n      <td>DoS Slowhttptest</td>\n    </tr>\n    <tr>\n      <th>...</th>\n      <td>...</td>\n      <td>...</td>\n    </tr>\n    <tr>\n      <th>8606</th>\n      <td>1.762418</td>\n      <td>DoS Slowhttptest</td>\n    </tr>\n    <tr>\n      <th>8607</th>\n      <td>39.747583</td>\n      <td>DoS Slowhttptest</td>\n    </tr>\n    <tr>\n      <th>8608</th>\n      <td>60.803117</td>\n      <td>DoS Slowhttptest</td>\n    </tr>\n    <tr>\n      <th>8609</th>\n      <td>5.421085</td>\n      <td>DoS Slowhttptest</td>\n    </tr>\n    <tr>\n      <th>8610</th>\n      <td>39.747583</td>\n      <td>DoS Slowhttptest</td>\n    </tr>\n  </tbody>\n</table>\n<p>1814 rows × 2 columns</p>\n</div>"
     },
     "execution_count": 531,
     "metadata": {},
     "output_type": "execute_result"
    }
   ],
   "source": [
    "output[(output.label!='BENIGN')]"
   ],
   "metadata": {
    "collapsed": false
   }
  },
  {
   "cell_type": "code",
   "execution_count": 532,
   "outputs": [
    {
     "data": {
      "text/plain": "<AxesSubplot: xlabel='label', ylabel='suma'>"
     },
     "execution_count": 532,
     "metadata": {},
     "output_type": "execute_result"
    },
    {
     "data": {
      "text/plain": "<Figure size 640x480 with 1 Axes>",
      "image/png": "[encoded data removed]"
     },
     "metadata": {},
     "output_type": "display_data"
    }
   ],
   "source": [
    "import seaborn as sns\n",
    "sns.barplot(data=output, x='label', y='suma')"
   ],
   "metadata": {
    "collapsed": false
   }
  },
  {
   "cell_type": "code",
   "execution_count": 533,
   "outputs": [
    {
     "data": {
      "text/plain": "35"
     },
     "execution_count": 533,
     "metadata": {},
     "output_type": "execute_result"
    }
   ],
   "source": [
    "np.linalg.matrix_rank(L)"
   ],
   "metadata": {
    "collapsed": false
   }
  },
  {
   "cell_type": "code",
   "execution_count": 539,
   "outputs": [
    {
     "data": {
      "text/plain": "label\nBENIGN              2673\nDoS Slowhttptest     940\nDoS slowloris          2\nName: label, dtype: int64"
     },
     "execution_count": 539,
     "metadata": {},
     "output_type": "execute_result"
    }
   ],
   "source": [
    "output[(output['suma'] >2)].groupby(['label'])['label'].count()"
   ],
   "metadata": {
    "collapsed": false
   }
  },
  {
   "cell_type": "code",
   "execution_count": 540,
   "outputs": [
    {
     "data": {
      "text/plain": "label\nBENIGN              9608\nDoS Slowhttptest    1812\nDoS slowloris          2\nName: label, dtype: int64"
     },
     "execution_count": 540,
     "metadata": {},
     "output_type": "execute_result"
    }
   ],
   "source": [
    "output.groupby(['label'])['label'].count()"
   ],
   "metadata": {
    "collapsed": false
   }
  },
  {
   "cell_type": "code",
   "execution_count": 498,
   "outputs": [],
   "source": [
    "output1 = DataFrame(S, columns=QUANT_COLS)"
   ],
   "metadata": {
    "collapsed": false
   }
  },
  {
   "cell_type": "code",
   "execution_count": 499,
   "outputs": [],
   "source": [
    "output1['label'] = Labels"
   ],
   "metadata": {
    "collapsed": false
   }
  },
  {
   "cell_type": "code",
   "execution_count": 500,
   "outputs": [],
   "source": [
    "output3 = []\n",
    "for i,x in output1.iterrows():\n",
    "\n",
    "    for stat in QUANT_COLS:\n",
    "\n",
    "        output3.append([stat, x[stat], x['label']])\n",
    "\n",
    "df_3 = DataFrame(output3, columns=['stat', 'value', 'label'])"
   ],
   "metadata": {
    "collapsed": false
   }
  },
  {
   "cell_type": "code",
   "execution_count": 501,
   "outputs": [
    {
     "data": {
      "text/plain": "      Flow Duration  Total Fwd Packets  Total Backward Packets  \\\n0     -2.980542e-07               -0.0                    -0.0   \n1     -6.230416e-07               -0.0                    -0.0   \n2      0.000000e+00                0.0                    -0.0   \n3      2.084520e-05                0.0                    -0.0   \n4     -1.235820e-06               -0.0                     0.0   \n...             ...                ...                     ...   \n6856   0.000000e+00                0.0                    -0.0   \n6857   0.000000e+00               -0.0                    -0.0   \n6858   0.000000e+00                0.0                    -0.0   \n6859  -2.987635e-07               -0.0                    -0.0   \n6860   0.000000e+00               -0.0                     0.0   \n\n      Total Length of Fwd Packets  Total Length of Bwd Packets  \\\n0                            -0.0                          0.0   \n1                             0.0                          0.0   \n2                             0.0                         -0.0   \n3                            -0.0                         -0.0   \n4                            -0.0                         -0.0   \n...                           ...                          ...   \n6856                          0.0                          0.0   \n6857                          0.0                          0.0   \n6858                          0.0                         -0.0   \n6859                         -0.0                          0.0   \n6860                          0.0                          0.0   \n\n      Fwd Packet Length Max  Fwd Packet Length Min  Fwd Packet Length Mean  \\\n0                      -0.0                   -0.0                    -0.0   \n1                      -0.0                   -0.0                    -0.0   \n2                      -0.0                   -0.0                    -0.0   \n3                       0.0                   -0.0                    -0.0   \n4                      -0.0                    0.0                    -0.0   \n...                     ...                    ...                     ...   \n6856                   -0.0                    0.0                    -0.0   \n6857                   -0.0                   -0.0                    -0.0   \n6858                   -0.0                   -0.0                    -0.0   \n6859                   -0.0                   -0.0                    -0.0   \n6860                    0.0                   -0.0                    -0.0   \n\n      Fwd Packet Length Std  Bwd Packet Length Max  ...  min_seg_size_forward  \\\n0                  0.000000           0.000000e+00  ...              0.218752   \n1                  0.000000           0.000000e+00  ...              0.218771   \n2                  0.000000           0.000000e+00  ...              0.263475   \n3                 -0.000000          -7.237757e-07  ...              0.248896   \n4                  0.000000           1.277614e-07  ...              0.218858   \n...                     ...                    ...  ...                   ...   \n6856               0.000000           0.000000e+00  ...              0.272156   \n6857              -0.000000          -0.000000e+00  ...             -1.226414   \n6858               0.000000          -0.000000e+00  ...              0.256838   \n6859               0.000000           0.000000e+00  ...              0.218752   \n6860              -0.000003           0.000000e+00  ...             -1.202866   \n\n       Active Mean  Active Std  Active Max    Active Min  Idle Mean  Idle Std  \\\n0    -4.718682e-07        -0.0    0.000000 -0.000000e+00       -0.0      -0.0   \n1    -0.000000e+00        -0.0    0.000000 -0.000000e+00        0.0       0.0   \n2     0.000000e+00         0.0   -0.000000 -0.000000e+00       -0.0       0.0   \n3    -0.000000e+00         0.0    0.000000 -0.000000e+00       -0.0       0.0   \n4     0.000000e+00        -0.0   -0.000000 -0.000000e+00       -0.0       0.0   \n...            ...         ...         ...           ...        ...       ...   \n6856  0.000000e+00        -0.0   -0.000001  0.000000e+00        0.0       0.0   \n6857 -3.572004e-07        -0.0   -0.000000  0.000000e+00        0.0      -0.0   \n6858  0.000000e+00         0.0    0.000000 -0.000000e+00       -0.0       0.0   \n6859 -4.715927e-07        -0.0    0.000000 -0.000000e+00       -0.0      -0.0   \n6860 -0.000000e+00         0.0    0.000000 -5.005817e-07        0.0       0.0   \n\n          Idle Max  Idle Min        label  \n0     0.000000e+00      -0.0  FTP-Patator  \n1    -0.000000e+00      -0.0  FTP-Patator  \n2    -0.000000e+00       0.0  FTP-Patator  \n3    -0.000000e+00       0.0  FTP-Patator  \n4    -0.000000e+00       0.0  FTP-Patator  \n...            ...       ...          ...  \n6856 -0.000000e+00       0.0       BENIGN  \n6857 -0.000000e+00      -0.0       BENIGN  \n6858 -0.000000e+00       0.0       BENIGN  \n6859  0.000000e+00      -0.0       BENIGN  \n6860 -3.420230e-07       0.0       BENIGN  \n\n[6861 rows x 78 columns]",
      "text/html": "<div>\n<style scoped>\n    .dataframe tbody tr th:only-of-type {\n        vertical-align: middle;\n    }\n\n    .dataframe tbody tr th {\n        vertical-align: top;\n    }\n\n    .dataframe thead th {\n        text-align: right;\n    }\n</style>\n<table border=\"1\" class=\"dataframe\">\n  <thead>\n    <tr style=\"text-align: right;\">\n      <th></th>\n      <th>Flow Duration</th>\n      <th>Total Fwd Packets</th>\n      <th>Total Backward Packets</th>\n      <th>Total Length of Fwd Packets</th>\n      <th>Total Length of Bwd Packets</th>\n      <th>Fwd Packet Length Max</th>\n      <th>Fwd Packet Length Min</th>\n      <th>Fwd Packet Length Mean</th>\n      <th>Fwd Packet Length Std</th>\n      <th>Bwd Packet Length Max</th>\n      <th>...</th>\n      <th>min_seg_size_forward</th>\n      <th>Active Mean</th>\n      <th>Active Std</th>\n      <th>Active Max</th>\n      <th>Active Min</th>\n      <th>Idle Mean</th>\n      <th>Idle Std</th>\n      <th>Idle Max</th>\n      <th>Idle Min</th>\n      <th>label</th>\n    </tr>\n  </thead>\n  <tbody>\n    <tr>\n      <th>0</th>\n      <td>-2.980542e-07</td>\n      <td>-0.0</td>\n      <td>-0.0</td>\n      <td>-0.0</td>\n      <td>0.0</td>\n      <td>-0.0</td>\n      <td>-0.0</td>\n      <td>-0.0</td>\n      <td>0.000000</td>\n      <td>0.000000e+00</td>\n      <td>...</td>\n      <td>0.218752</td>\n      <td>-4.718682e-07</td>\n      <td>-0.0</td>\n      <td>0.000000</td>\n      <td>-0.000000e+00</td>\n      <td>-0.0</td>\n      <td>-0.0</td>\n      <td>0.000000e+00</td>\n      <td>-0.0</td>\n      <td>FTP-Patator</td>\n    </tr>\n    <tr>\n      <th>1</th>\n      <td>-6.230416e-07</td>\n      <td>-0.0</td>\n      <td>-0.0</td>\n      <td>0.0</td>\n      <td>0.0</td>\n      <td>-0.0</td>\n      <td>-0.0</td>\n      <td>-0.0</td>\n      <td>0.000000</td>\n      <td>0.000000e+00</td>\n      <td>...</td>\n      <td>0.218771</td>\n      <td>-0.000000e+00</td>\n      <td>-0.0</td>\n      <td>0.000000</td>\n      <td>-0.000000e+00</td>\n      <td>0.0</td>\n      <td>0.0</td>\n      <td>-0.000000e+00</td>\n      <td>-0.0</td>\n      <td>FTP-Patator</td>\n    </tr>\n    <tr>\n      <th>2</th>\n      <td>0.000000e+00</td>\n      <td>0.0</td>\n      <td>-0.0</td>\n      <td>0.0</td>\n      <td>-0.0</td>\n      <td>-0.0</td>\n      <td>-0.0</td>\n      <td>-0.0</td>\n      <td>0.000000</td>\n      <td>0.000000e+00</td>\n      <td>...</td>\n      <td>0.263475</td>\n      <td>0.000000e+00</td>\n      <td>0.0</td>\n      <td>-0.000000</td>\n      <td>-0.000000e+00</td>\n      <td>-0.0</td>\n      <td>0.0</td>\n      <td>-0.000000e+00</td>\n      <td>0.0</td>\n      <td>FTP-Patator</td>\n    </tr>\n    <tr>\n      <th>3</th>\n      <td>2.084520e-05</td>\n      <td>0.0</td>\n      <td>-0.0</td>\n      <td>-0.0</td>\n      <td>-0.0</td>\n      <td>0.0</td>\n      <td>-0.0</td>\n      <td>-0.0</td>\n      <td>-0.000000</td>\n      <td>-7.237757e-07</td>\n      <td>...</td>\n      <td>0.248896</td>\n      <td>-0.000000e+00</td>\n      <td>0.0</td>\n      <td>0.000000</td>\n      <td>-0.000000e+00</td>\n      <td>-0.0</td>\n      <td>0.0</td>\n      <td>-0.000000e+00</td>\n      <td>0.0</td>\n      <td>FTP-Patator</td>\n    </tr>\n    <tr>\n      <th>4</th>\n      <td>-1.235820e-06</td>\n      <td>-0.0</td>\n      <td>0.0</td>\n      <td>-0.0</td>\n      <td>-0.0</td>\n      <td>-0.0</td>\n      <td>0.0</td>\n      <td>-0.0</td>\n      <td>0.000000</td>\n      <td>1.277614e-07</td>\n      <td>...</td>\n      <td>0.218858</td>\n      <td>0.000000e+00</td>\n      <td>-0.0</td>\n      <td>-0.000000</td>\n      <td>-0.000000e+00</td>\n      <td>-0.0</td>\n      <td>0.0</td>\n      <td>-0.000000e+00</td>\n      <td>0.0</td>\n      <td>FTP-Patator</td>\n    </tr>\n    <tr>\n      <th>...</th>\n      <td>...</td>\n      <td>...</td>\n      <td>...</td>\n      <td>...</td>\n      <td>...</td>\n      <td>...</td>\n      <td>...</td>\n      <td>...</td>\n      <td>...</td>\n      <td>...</td>\n      <td>...</td>\n      <td>...</td>\n      <td>...</td>\n      <td>...</td>\n      <td>...</td>\n      <td>...</td>\n      <td>...</td>\n      <td>...</td>\n      <td>...</td>\n      <td>...</td>\n      <td>...</td>\n    </tr>\n    <tr>\n      <th>6856</th>\n      <td>0.000000e+00</td>\n      <td>0.0</td>\n      <td>-0.0</td>\n      <td>0.0</td>\n      <td>0.0</td>\n      <td>-0.0</td>\n      <td>0.0</td>\n      <td>-0.0</td>\n      <td>0.000000</td>\n      <td>0.000000e+00</td>\n      <td>...</td>\n      <td>0.272156</td>\n      <td>0.000000e+00</td>\n      <td>-0.0</td>\n      <td>-0.000001</td>\n      <td>0.000000e+00</td>\n      <td>0.0</td>\n      <td>0.0</td>\n      <td>-0.000000e+00</td>\n      <td>0.0</td>\n      <td>BENIGN</td>\n    </tr>\n    <tr>\n      <th>6857</th>\n      <td>0.000000e+00</td>\n      <td>-0.0</td>\n      <td>-0.0</td>\n      <td>0.0</td>\n      <td>0.0</td>\n      <td>-0.0</td>\n      <td>-0.0</td>\n      <td>-0.0</td>\n      <td>-0.000000</td>\n      <td>-0.000000e+00</td>\n      <td>...</td>\n      <td>-1.226414</td>\n      <td>-3.572004e-07</td>\n      <td>-0.0</td>\n      <td>-0.000000</td>\n      <td>0.000000e+00</td>\n      <td>0.0</td>\n      <td>-0.0</td>\n      <td>-0.000000e+00</td>\n      <td>-0.0</td>\n      <td>BENIGN</td>\n    </tr>\n    <tr>\n      <th>6858</th>\n      <td>0.000000e+00</td>\n      <td>0.0</td>\n      <td>-0.0</td>\n      <td>0.0</td>\n      <td>-0.0</td>\n      <td>-0.0</td>\n      <td>-0.0</td>\n      <td>-0.0</td>\n      <td>0.000000</td>\n      <td>-0.000000e+00</td>\n      <td>...</td>\n      <td>0.256838</td>\n      <td>0.000000e+00</td>\n      <td>0.0</td>\n      <td>0.000000</td>\n      <td>-0.000000e+00</td>\n      <td>-0.0</td>\n      <td>0.0</td>\n      <td>-0.000000e+00</td>\n      <td>0.0</td>\n      <td>BENIGN</td>\n    </tr>\n    <tr>\n      <th>6859</th>\n      <td>-2.987635e-07</td>\n      <td>-0.0</td>\n      <td>-0.0</td>\n      <td>-0.0</td>\n      <td>0.0</td>\n      <td>-0.0</td>\n      <td>-0.0</td>\n      <td>-0.0</td>\n      <td>0.000000</td>\n      <td>0.000000e+00</td>\n      <td>...</td>\n      <td>0.218752</td>\n      <td>-4.715927e-07</td>\n      <td>-0.0</td>\n      <td>0.000000</td>\n      <td>-0.000000e+00</td>\n      <td>-0.0</td>\n      <td>-0.0</td>\n      <td>0.000000e+00</td>\n      <td>-0.0</td>\n      <td>BENIGN</td>\n    </tr>\n    <tr>\n      <th>6860</th>\n      <td>0.000000e+00</td>\n      <td>-0.0</td>\n      <td>0.0</td>\n      <td>0.0</td>\n      <td>0.0</td>\n      <td>0.0</td>\n      <td>-0.0</td>\n      <td>-0.0</td>\n      <td>-0.000003</td>\n      <td>0.000000e+00</td>\n      <td>...</td>\n      <td>-1.202866</td>\n      <td>-0.000000e+00</td>\n      <td>0.0</td>\n      <td>0.000000</td>\n      <td>-5.005817e-07</td>\n      <td>0.0</td>\n      <td>0.0</td>\n      <td>-3.420230e-07</td>\n      <td>0.0</td>\n      <td>BENIGN</td>\n    </tr>\n  </tbody>\n</table>\n<p>6861 rows × 78 columns</p>\n</div>"
     },
     "execution_count": 501,
     "metadata": {},
     "output_type": "execute_result"
    }
   ],
   "source": [
    "output1"
   ],
   "metadata": {
    "collapsed": false
   }
  },
  {
   "cell_type": "code",
   "execution_count": 502,
   "outputs": [
    {
     "data": {
      "text/plain": "<AxesSubplot: xlabel='stat', ylabel='value'>"
     },
     "execution_count": 502,
     "metadata": {},
     "output_type": "execute_result"
    },
    {
     "data": {
      "text/plain": "<Figure size 640x480 with 1 Axes>",
      "image/png": "[encoded data removed]"
     },
     "metadata": {},
     "output_type": "display_data"
    }
   ],
   "source": [
    "import seaborn as sns\n",
    "\n",
    "sns.barplot(data=df_3, x = 'stat', y = 'value', hue='label')\n",
    "\n"
   ],
   "metadata": {
    "collapsed": false
   }
  },
  {
   "cell_type": "code",
   "execution_count": 503,
   "outputs": [
    {
     "data": {
      "text/plain": "stat\nmin_seg_size_forward      -0.207816\nDown/Up Ratio             -0.082953\nPSH Flag Count            -0.030619\nInit_Win_bytes_forward    -0.008301\nMin Packet Length          0.000000\n                             ...   \nActive Std                 0.146690\nFlow IAT Max               0.156605\nSYN Flag Count             0.194771\nFwd PSH Flags              0.194771\nInit_Win_bytes_backward    0.271486\nName: value, Length: 77, dtype: float64"
     },
     "execution_count": 503,
     "metadata": {},
     "output_type": "execute_result"
    }
   ],
   "source": [
    "df_3.groupby('stat')['value'].mean().sort_values()"
   ],
   "metadata": {
    "collapsed": false
   }
  },
  {
   "cell_type": "code",
   "execution_count": 504,
   "outputs": [
    {
     "ename": "SyntaxError",
     "evalue": "invalid syntax (2462970370.py, line 1)",
     "output_type": "error",
     "traceback": [
      "\u001B[0;36m  Cell \u001B[0;32mIn [504], line 1\u001B[0;36m\u001B[0m\n\u001B[0;31m    Init_Win_bytes_forward     0.137349\u001B[0m\n\u001B[0m                               ^\u001B[0m\n\u001B[0;31mSyntaxError\u001B[0m\u001B[0;31m:\u001B[0m invalid syntax\n"
     ]
    }
   ],
   "source": [
    "Init_Win_bytes_forward     0.137349\n",
    "Fwd PSH Flags              0.147298\n",
    "SYN Flag Count             0.147298\n",
    "Min Packet Length          0.229221\n",
    "Init_Win_bytes_backward    0.251420"
   ],
   "metadata": {
    "collapsed": false
   }
  },
  {
   "cell_type": "code",
   "execution_count": 505,
   "outputs": [
    {
     "data": {
      "text/plain": "['benign',\n 'benign',\n 'benign',\n 'benign',\n 'benign',\n 'benign',\n 'benign',\n 'benign',\n 'benign',\n 'benign',\n 'benign',\n 'benign',\n 'benign',\n 'benign',\n 'benign',\n 'attack',\n 'attack',\n 'attack',\n 'attack',\n 'attack',\n 'attack',\n 'benign',\n 'attack',\n 'benign',\n 'attack',\n 'attack',\n 'attack',\n 'benign',\n 'benign',\n 'benign',\n 'attack',\n 'attack',\n 'attack',\n 'attack',\n 'attack',\n 'attack',\n 'benign',\n 'benign',\n 'attack',\n 'benign',\n 'benign',\n 'attack',\n 'attack',\n 'attack',\n 'benign',\n 'benign',\n 'benign',\n 'attack',\n 'attack',\n 'attack',\n 'attack',\n 'benign',\n 'attack',\n 'attack',\n 'benign',\n 'attack',\n 'benign',\n 'benign',\n 'attack',\n 'attack',\n 'attack',\n 'benign',\n 'benign',\n 'benign',\n 'attack',\n 'attack',\n 'attack',\n 'attack',\n 'attack',\n 'attack',\n 'benign',\n 'attack',\n 'benign',\n 'benign',\n 'attack',\n 'attack',\n 'attack',\n 'benign',\n 'benign',\n 'benign',\n 'attack',\n 'attack',\n 'attack',\n 'attack',\n 'attack',\n 'attack',\n 'benign',\n 'benign',\n 'benign',\n 'attack',\n 'benign',\n 'benign',\n 'attack',\n 'attack',\n 'attack',\n 'benign',\n 'benign',\n 'benign',\n 'benign',\n 'attack',\n 'attack',\n 'attack',\n 'attack',\n 'attack',\n 'benign',\n 'attack',\n 'benign',\n 'attack',\n 'benign',\n 'benign',\n 'attack',\n 'attack',\n 'attack',\n 'benign',\n 'attack',\n 'attack',\n 'benign',\n 'benign',\n 'benign',\n 'attack',\n 'attack',\n 'attack',\n 'attack',\n 'attack',\n 'benign',\n 'benign',\n 'attack',\n 'attack',\n 'attack',\n 'benign',\n 'attack',\n 'attack',\n 'attack',\n 'attack',\n 'attack',\n 'benign',\n 'attack',\n 'benign',\n 'attack',\n 'benign',\n 'benign',\n 'attack',\n 'attack',\n 'attack',\n 'benign',\n 'benign',\n 'benign',\n 'benign',\n 'benign',\n 'benign',\n 'attack',\n 'attack',\n 'attack',\n 'attack',\n 'attack',\n 'attack',\n 'benign',\n 'attack',\n 'benign',\n 'benign',\n 'attack',\n 'attack',\n 'attack',\n 'benign',\n 'benign',\n 'benign',\n 'attack',\n 'attack',\n 'attack',\n 'attack',\n 'attack',\n 'attack',\n 'benign',\n 'attack',\n 'benign',\n 'benign',\n 'attack',\n 'attack',\n 'benign',\n 'attack',\n 'benign',\n 'benign',\n 'benign',\n 'benign',\n 'benign',\n 'benign',\n 'attack',\n 'attack',\n 'attack',\n 'attack',\n 'attack',\n 'attack',\n 'attack',\n 'attack',\n 'attack',\n 'benign',\n 'benign',\n 'attack',\n 'attack',\n 'attack',\n 'benign',\n 'benign',\n 'attack',\n 'attack',\n 'benign',\n 'benign',\n 'attack',\n 'attack',\n 'attack',\n 'attack',\n 'attack',\n 'benign',\n 'benign',\n 'benign',\n 'attack',\n 'benign',\n 'benign',\n 'attack',\n 'attack',\n 'attack',\n 'benign',\n 'benign',\n 'attack',\n 'attack',\n 'benign',\n 'attack',\n 'benign',\n 'attack',\n 'benign',\n 'benign',\n 'attack',\n 'attack',\n 'benign',\n 'attack',\n 'benign',\n 'benign',\n 'benign',\n 'attack',\n 'attack',\n 'attack',\n 'attack',\n 'attack',\n 'attack',\n 'benign',\n 'benign',\n 'attack',\n 'benign',\n 'attack',\n 'attack',\n 'benign',\n 'benign',\n 'benign',\n 'benign',\n 'benign',\n 'benign',\n 'attack',\n 'attack',\n 'attack',\n 'attack',\n 'attack',\n 'attack',\n 'attack',\n 'benign',\n 'attack',\n 'benign',\n 'benign',\n 'attack',\n 'attack',\n 'benign',\n 'benign',\n 'benign',\n 'benign',\n 'attack',\n 'attack',\n 'attack',\n 'attack',\n 'attack',\n 'attack',\n 'benign',\n 'attack',\n 'benign',\n 'attack',\n 'benign',\n 'attack',\n 'benign',\n 'attack',\n 'benign',\n 'attack',\n 'attack',\n 'attack',\n 'attack',\n 'attack',\n 'attack',\n 'attack',\n 'benign',\n 'attack',\n 'attack',\n 'benign',\n 'attack',\n 'benign',\n 'benign',\n 'benign',\n 'benign',\n 'attack',\n 'attack',\n 'attack',\n 'attack',\n 'attack',\n 'attack',\n 'benign',\n 'attack',\n 'benign',\n 'attack',\n 'attack',\n 'attack',\n 'benign',\n 'benign',\n 'benign',\n 'attack',\n 'attack',\n 'attack',\n 'attack',\n 'attack',\n 'benign',\n 'attack',\n 'attack',\n 'attack',\n 'attack',\n 'benign',\n 'attack',\n 'benign',\n 'attack',\n 'benign',\n 'benign',\n 'attack',\n 'attack',\n 'attack',\n 'attack',\n 'attack',\n 'attack',\n 'attack',\n 'benign',\n 'attack',\n 'benign',\n 'attack',\n 'attack',\n 'benign',\n 'benign',\n 'benign',\n 'benign',\n 'attack',\n 'attack',\n 'attack',\n 'attack',\n 'attack',\n 'attack',\n 'benign',\n 'benign',\n 'attack',\n 'attack',\n 'benign',\n 'attack',\n 'benign',\n 'attack',\n 'benign',\n 'benign',\n 'benign',\n 'benign',\n 'benign',\n 'attack',\n 'attack',\n 'attack',\n 'attack',\n 'attack',\n 'attack',\n 'benign',\n 'benign',\n 'attack',\n 'attack',\n 'benign',\n 'benign',\n 'attack',\n 'attack',\n 'benign',\n 'attack',\n 'attack',\n 'attack',\n 'attack',\n 'benign',\n 'benign',\n 'benign',\n 'attack',\n 'attack',\n 'benign',\n 'attack',\n 'attack',\n 'benign',\n 'benign',\n 'attack',\n 'attack',\n 'benign',\n 'benign',\n 'benign',\n 'attack',\n 'attack',\n 'attack',\n 'attack',\n 'attack',\n 'attack',\n 'benign',\n 'attack',\n 'attack',\n 'benign',\n 'attack',\n 'attack',\n 'benign',\n 'benign',\n 'attack',\n 'attack',\n 'attack',\n 'attack',\n 'attack',\n 'attack',\n 'benign',\n 'benign',\n 'attack',\n 'attack',\n 'benign',\n 'attack',\n 'attack',\n 'benign',\n 'benign',\n 'benign',\n 'benign',\n 'benign',\n 'attack',\n 'attack',\n 'attack',\n 'attack',\n 'attack',\n 'attack',\n 'benign',\n 'attack',\n 'attack',\n 'benign',\n 'benign',\n 'attack',\n 'attack',\n 'benign',\n 'benign',\n 'benign',\n 'benign',\n 'benign',\n 'attack',\n 'attack',\n 'attack',\n 'attack',\n 'attack',\n 'attack',\n 'benign',\n 'benign',\n 'attack',\n 'attack',\n 'benign',\n 'benign',\n 'attack',\n 'attack',\n 'benign',\n 'benign',\n 'benign',\n 'benign',\n 'attack',\n 'attack',\n 'attack',\n 'attack',\n 'benign',\n 'attack',\n 'attack',\n 'benign',\n 'attack',\n 'attack',\n 'benign',\n 'benign',\n 'attack',\n 'attack',\n 'benign',\n 'benign',\n 'attack',\n 'attack',\n 'attack',\n 'attack',\n 'attack',\n 'attack',\n 'benign',\n 'benign',\n 'attack',\n 'attack',\n 'benign',\n 'benign',\n 'attack',\n 'attack',\n 'benign',\n 'attack',\n 'attack',\n 'attack',\n 'attack',\n 'benign',\n 'attack',\n 'attack',\n 'benign',\n 'attack',\n 'attack',\n 'benign',\n 'attack',\n 'attack',\n 'benign',\n 'benign',\n 'benign',\n 'attack',\n 'attack',\n 'attack',\n 'attack',\n 'attack',\n 'benign',\n 'benign',\n 'attack',\n 'benign',\n 'attack',\n 'attack',\n 'attack',\n 'attack',\n 'benign',\n 'benign',\n 'attack',\n 'attack',\n 'attack',\n 'attack',\n 'benign',\n 'benign',\n 'attack',\n 'attack',\n 'benign',\n 'attack',\n 'attack',\n 'attack',\n 'benign',\n 'benign',\n 'attack',\n 'attack',\n 'benign',\n 'benign',\n 'attack',\n 'attack',\n 'benign',\n 'benign',\n 'attack',\n 'attack',\n 'benign',\n 'benign',\n 'benign',\n 'attack',\n 'attack',\n 'attack',\n 'attack',\n 'benign',\n 'benign',\n 'attack',\n 'attack',\n 'benign',\n 'attack',\n 'attack',\n 'benign',\n 'attack',\n 'benign',\n 'attack',\n 'attack',\n 'attack',\n 'attack',\n 'benign',\n 'benign',\n 'attack',\n 'attack',\n 'attack',\n 'benign',\n 'benign',\n 'benign',\n 'attack',\n 'attack',\n 'benign',\n 'attack',\n 'benign',\n 'benign',\n 'benign',\n 'attack',\n 'attack',\n 'attack',\n 'attack',\n 'benign',\n 'benign',\n 'attack',\n 'attack',\n 'benign',\n 'benign',\n 'benign',\n 'attack',\n 'attack',\n 'attack',\n 'benign',\n 'benign',\n 'benign',\n 'benign',\n 'attack',\n 'attack',\n 'attack',\n 'attack',\n 'attack',\n 'benign',\n 'attack',\n 'attack',\n 'benign',\n 'attack',\n 'benign',\n 'attack',\n 'attack',\n 'benign',\n 'benign',\n 'benign',\n 'benign',\n 'attack',\n 'attack',\n 'attack',\n 'attack',\n 'attack',\n 'benign',\n 'benign',\n 'attack',\n 'attack',\n 'benign',\n 'benign',\n 'attack',\n 'attack',\n 'attack',\n 'attack',\n 'benign',\n 'benign',\n 'attack',\n 'attack',\n 'attack',\n 'attack',\n 'benign',\n 'attack',\n 'attack',\n 'benign',\n 'benign',\n 'attack',\n 'attack',\n 'attack',\n 'attack',\n 'benign',\n 'benign',\n 'benign',\n 'attack',\n 'attack',\n 'attack',\n 'attack',\n 'benign',\n 'benign',\n 'attack',\n 'attack',\n 'benign',\n 'attack',\n 'attack',\n 'attack',\n 'benign',\n 'benign',\n 'benign',\n 'attack',\n 'attack',\n 'attack',\n 'attack',\n 'attack',\n 'benign',\n 'benign',\n 'attack',\n 'attack',\n 'benign',\n 'benign',\n 'attack',\n 'attack',\n 'attack',\n 'benign',\n 'benign',\n 'benign',\n 'benign',\n 'attack',\n 'attack',\n 'attack',\n 'attack',\n 'attack',\n 'benign',\n 'benign',\n 'attack',\n 'attack',\n 'benign',\n 'benign',\n 'attack',\n 'attack',\n 'attack',\n 'benign',\n 'benign',\n 'attack',\n 'attack',\n 'attack',\n 'attack',\n 'attack',\n 'benign',\n 'attack',\n 'attack',\n 'benign',\n 'benign',\n 'attack',\n 'attack',\n 'attack',\n 'benign',\n 'attack',\n 'attack',\n 'attack',\n 'benign',\n 'attack',\n 'attack',\n 'benign',\n 'attack',\n 'attack',\n 'benign',\n 'benign',\n 'benign',\n 'attack',\n 'attack',\n 'attack',\n 'benign',\n 'benign',\n 'benign',\n 'benign',\n 'attack',\n 'attack',\n 'attack',\n 'attack',\n 'attack',\n 'attack',\n 'attack',\n 'benign',\n 'attack',\n 'benign',\n 'benign',\n 'benign',\n 'attack',\n 'attack',\n 'benign',\n 'benign',\n 'benign',\n 'attack',\n 'attack',\n 'attack',\n 'attack',\n 'attack',\n 'attack',\n 'attack',\n 'benign',\n 'attack',\n 'benign',\n 'attack',\n 'attack',\n 'benign',\n 'benign',\n 'benign',\n 'benign',\n 'attack',\n 'attack',\n 'attack',\n 'attack',\n 'attack',\n 'benign',\n 'attack',\n 'benign',\n 'attack',\n 'benign',\n 'benign',\n 'attack',\n 'attack',\n 'attack',\n 'benign',\n 'benign',\n 'benign',\n 'attack',\n 'attack',\n 'attack',\n 'attack',\n 'benign',\n 'attack',\n 'benign',\n 'benign',\n 'attack',\n 'attack',\n 'benign',\n 'benign',\n 'benign',\n 'attack',\n 'attack',\n 'attack',\n 'attack',\n 'attack',\n 'benign',\n 'benign',\n 'attack',\n 'attack',\n 'attack',\n 'benign',\n 'attack',\n 'attack',\n 'benign',\n 'benign',\n 'attack',\n 'attack',\n 'attack',\n 'benign',\n 'attack',\n 'attack',\n 'attack',\n 'benign',\n 'benign',\n 'attack',\n 'attack',\n 'benign',\n 'benign',\n 'attack',\n 'attack',\n 'attack',\n 'benign',\n 'benign',\n 'attack',\n 'attack',\n 'benign',\n 'benign',\n 'benign',\n 'attack',\n 'attack',\n 'attack',\n 'attack',\n 'attack',\n 'benign',\n 'attack',\n 'attack',\n 'benign',\n 'attack',\n 'benign',\n 'attack',\n 'attack',\n 'benign',\n 'benign',\n 'attack',\n 'attack',\n 'attack',\n 'attack',\n 'attack',\n 'benign',\n 'attack',\n 'attack',\n 'benign',\n 'benign',\n 'attack',\n 'attack',\n 'attack',\n 'benign',\n 'benign',\n 'benign',\n 'attack',\n 'attack',\n 'attack',\n 'attack',\n 'attack',\n 'benign',\n 'attack',\n 'attack',\n 'benign',\n 'benign',\n 'benign',\n 'attack',\n 'attack',\n 'attack',\n 'benign',\n 'benign',\n 'attack',\n 'attack',\n 'attack',\n 'attack',\n 'benign',\n 'attack',\n 'benign',\n 'attack',\n 'attack',\n 'benign',\n 'benign',\n 'benign',\n 'attack',\n 'attack',\n 'attack',\n 'benign',\n 'attack',\n 'attack',\n 'benign',\n 'benign',\n 'attack',\n 'attack',\n 'attack',\n 'benign',\n 'attack',\n 'attack',\n 'benign',\n 'attack',\n 'attack',\n 'attack',\n 'benign',\n 'benign',\n 'benign',\n 'benign',\n 'attack',\n 'attack',\n 'attack',\n 'attack',\n 'attack',\n 'attack',\n 'attack',\n 'benign',\n 'attack',\n 'attack',\n 'attack',\n 'benign',\n 'benign',\n 'benign',\n 'benign',\n 'attack',\n 'attack',\n 'attack',\n 'attack',\n 'attack',\n 'benign',\n 'benign',\n 'benign',\n 'attack',\n 'attack',\n 'benign',\n 'benign',\n 'benign',\n 'attack',\n 'attack',\n 'attack',\n 'benign',\n 'benign',\n 'benign',\n 'benign',\n 'benign',\n 'attack',\n 'attack',\n 'attack',\n 'attack',\n 'attack',\n 'attack',\n 'attack',\n 'benign',\n 'benign',\n 'benign',\n 'benign',\n 'attack',\n 'attack',\n 'attack',\n 'benign',\n 'benign',\n 'attack',\n 'attack',\n 'attack',\n 'attack',\n 'attack',\n 'benign',\n 'benign',\n 'attack',\n 'attack',\n 'benign',\n 'attack',\n 'attack',\n 'benign',\n 'attack',\n 'attack',\n 'attack',\n 'benign',\n 'benign',\n 'attack',\n 'attack',\n 'attack',\n 'benign',\n 'attack',\n ...]"
     },
     "execution_count": 505,
     "metadata": {},
     "output_type": "execute_result"
    }
   ],
   "source": [
    "y_pred = []\n",
    "y_true = []\n",
    "for idx, data in output.iterrows():\n",
    "    attack_pred = \"attack\" if data[\"suma\"] <1 else \"benign\"\n",
    "    attack_true = \"attack\" if data[\"label\"] != \"BENIGN\" else \"benign\"\n",
    "    y_pred.append(attack_pred)\n",
    "    y_true.append(attack_true)\n",
    "y_pred"
   ],
   "metadata": {
    "collapsed": false
   }
  },
  {
   "cell_type": "code",
   "execution_count": 506,
   "outputs": [
    {
     "data": {
      "text/plain": "(0.9983633387888707, 0.5888030888030888, 0.7407407407407408, None)"
     },
     "execution_count": 506,
     "metadata": {},
     "output_type": "execute_result"
    }
   ],
   "source": [
    "from sklearn.metrics import precision_recall_fscore_support\n",
    "\n",
    "precision_recall_fscore_support(y_true, y_pred, average='binary', pos_label='attack')"
   ],
   "metadata": {
    "collapsed": false
   }
  },
  {
   "cell_type": "code",
   "execution_count": 507,
   "outputs": [
    {
     "data": {
      "text/plain": "0.9377641743186125"
     },
     "execution_count": 507,
     "metadata": {},
     "output_type": "execute_result"
    }
   ],
   "source": [
    "from sklearn.metrics import accuracy_score\n",
    "accuracy_score(y_true, y_pred)"
   ],
   "metadata": {
    "collapsed": false
   }
  },
  {
   "cell_type": "code",
   "execution_count": null,
   "outputs": [],
   "source": [],
   "metadata": {
    "collapsed": false
   }
  }
 ],
 "metadata": {
  "kernelspec": {
   "display_name": "Python 3",
   "language": "python",
   "name": "python3"
  },
  "language_info": {
   "codemirror_mode": {
    "name": "ipython",
    "version": 2
   },
   "file_extension": ".py",
   "mimetype": "text/x-python",
   "name": "python",
   "nbconvert_exporter": "python",
   "pygments_lexer": "ipython2",
   "version": "2.7.6"
  }
 },
 "nbformat": 4,
 "nbformat_minor": 0
}
