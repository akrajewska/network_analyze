{
 "cells": [
  {
   "cell_type": "code",
   "execution_count": 43,
   "outputs": [],
   "source": [
    "import pandas as pd\n",
    "from sklearn.decomposition import NMF\n",
    "from utils.process import prepare_df, data_arrays\n",
    "from sklearn import metrics\n",
    "import numpy as np\n",
    "import seaborn as sns\n",
    "import matplotlib.pyplot as plt"
   ],
   "metadata": {
    "collapsed": false
   }
  },
  {
   "cell_type": "code",
   "execution_count": 1,
   "outputs": [
    {
     "ename": "NameError",
     "evalue": "name 'prepare_df' is not defined",
     "output_type": "error",
     "traceback": [
      "\u001B[0;31m---------------------------------------------------------------------------\u001B[0m",
      "\u001B[0;31mNameError\u001B[0m                                 Traceback (most recent call last)",
      "Cell \u001B[0;32mIn [1], line 1\u001B[0m\n\u001B[0;32m----> 1\u001B[0m df \u001B[38;5;241m=\u001B[39m \u001B[43mprepare_df\u001B[49m()\n\u001B[1;32m      2\u001B[0m df \u001B[38;5;241m=\u001B[39m df[df[\u001B[38;5;124m'\u001B[39m\u001B[38;5;124mLabel\u001B[39m\u001B[38;5;124m'\u001B[39m] \u001B[38;5;241m!=\u001B[39m \u001B[38;5;124m'\u001B[39m\u001B[38;5;124mBENIGN\u001B[39m\u001B[38;5;124m'\u001B[39m]\n",
      "\u001B[0;31mNameError\u001B[0m: name 'prepare_df' is not defined"
     ]
    }
   ],
   "source": [
    "df = prepare_df()\n",
    "df = df[df['Label'] != 'BENIGN']"
   ],
   "metadata": {
    "collapsed": false
   }
  },
  {
   "cell_type": "code",
   "execution_count": null,
   "outputs": [],
   "source": [
    "sample_size=10000\n",
    "\n",
    "ranks_grid = np.unique([int(i) for i in np.exp(np.linspace(start=np.log(50), stop=np.log(1), num=15))])\n",
    "\n",
    "results = []\n",
    "for l1_ratio in (0, 0.1, 0.2, 0.5, 0.7, 1):\n",
    "    for rank in ranks_grid:\n",
    "        print(rank)\n",
    "        if rank == 1:\n",
    "            continue\n",
    "        for trial in range(5):\n",
    "            df_sampled = df.sample(n=sample_size)\n",
    "            X, y = data_arrays(df_sampled)\n",
    "            nmf = NMF(n_components=rank, init='random', max_iter=10000, l1_ratio=l1_ratio, beta_loss='kullback-leibler', solver='mu')\n",
    "            W = nmf.fit_transform(X.T)\n",
    "            H = nmf.components_\n",
    "\n",
    "            ss = metrics.silhouette_score(X, np.argmax(H, axis=0))\n",
    "            rmse = nmf.reconstruction_err_/np.linalg.norm(X)\n",
    "            results.append([rank, trial, l1_ratio, metrics.rand_score(y, np.argmax(H, axis=0)), ss, rmse])\n",
    "\n",
    "results = pd.DataFrame(results, columns=['rank', 'trial', 'l_1 ratio', 'score', 'silhouete score', 'rmse'])\n",
    "results.to_csv('results_kl.csv')"
   ],
   "metadata": {
    "collapsed": false
   }
  },
  {
   "cell_type": "code",
   "execution_count": null,
   "outputs": [],
   "source": [
    "results = pd.read_csv('results_kl.csv')\n",
    "palette = sns.color_palette(\"mako_r\", 6)\n",
    "sns.set_style(\"whitegrid\")\n",
    "ax = sns.lineplot(data=results, x='rank', y='silhouete score', hue='l_1 ratio', palette=palette)\n",
    "ax.grid(axis='x')\n",
    "ax.set(ylabel='Silhouete Score')\n",
    "ax.set_ylim(0, 1)\n",
    "ax.set_xlim(0, 50)\n",
    "plt.savefig('/home/tosia/NASK/network_analyze/PLOTS/NNMF/silhouete_score_kl')"
   ],
   "metadata": {
    "collapsed": false
   }
  },
  {
   "cell_type": "code",
   "execution_count": 5,
   "outputs": [
    {
     "data": {
      "text/plain": "0.8081568411612696"
     },
     "execution_count": 5,
     "metadata": {},
     "output_type": "execute_result"
    }
   ],
   "source": [
    "sns.lineplot(data=results, x='rank', y='score')"
   ],
   "metadata": {
    "collapsed": false
   }
  },
  {
   "cell_type": "code",
   "execution_count": 50,
   "outputs": [
    {
     "name": "stderr",
     "output_type": "stream",
     "text": [
      "/tmp/ipykernel_18844/3466361947.py:1: FutureWarning: Indexing with multiple keys (implicitly converted to a tuple of keys) will be deprecated, use a list instead.\n",
      "  results.groupby('rank')[ 'score', 'silhouete score', 'rmse'].mean()\n"
     ]
    },
    {
     "data": {
      "text/plain": "         score  silhouete score      rmse\nrank                                     \n2     0.637096         0.515721  1.369908\n3     0.711885         0.585373  1.059201\n4     0.744848         0.618570  0.874423\n5     0.769496         0.638585  0.735315\n7     0.791444         0.698668  0.453775\n9     0.788868         0.652649  0.379542\n12    0.795055         0.652366  0.232958\n16    0.778503         0.421675  0.172706\n21    0.770754         0.269444  0.131911\n28    0.753842         0.106198  0.103686\n37    0.744869         0.010307  0.071231\n49    0.740934        -0.115483  0.063263",
      "text/html": "<div>\n<style scoped>\n    .dataframe tbody tr th:only-of-type {\n        vertical-align: middle;\n    }\n\n    .dataframe tbody tr th {\n        vertical-align: top;\n    }\n\n    .dataframe thead th {\n        text-align: right;\n    }\n</style>\n<table border=\"1\" class=\"dataframe\">\n  <thead>\n    <tr style=\"text-align: right;\">\n      <th></th>\n      <th>score</th>\n      <th>silhouete score</th>\n      <th>rmse</th>\n    </tr>\n    <tr>\n      <th>rank</th>\n      <th></th>\n      <th></th>\n      <th></th>\n    </tr>\n  </thead>\n  <tbody>\n    <tr>\n      <th>2</th>\n      <td>0.637096</td>\n      <td>0.515721</td>\n      <td>1.369908</td>\n    </tr>\n    <tr>\n      <th>3</th>\n      <td>0.711885</td>\n      <td>0.585373</td>\n      <td>1.059201</td>\n    </tr>\n    <tr>\n      <th>4</th>\n      <td>0.744848</td>\n      <td>0.618570</td>\n      <td>0.874423</td>\n    </tr>\n    <tr>\n      <th>5</th>\n      <td>0.769496</td>\n      <td>0.638585</td>\n      <td>0.735315</td>\n    </tr>\n    <tr>\n      <th>7</th>\n      <td>0.791444</td>\n      <td>0.698668</td>\n      <td>0.453775</td>\n    </tr>\n    <tr>\n      <th>9</th>\n      <td>0.788868</td>\n      <td>0.652649</td>\n      <td>0.379542</td>\n    </tr>\n    <tr>\n      <th>12</th>\n      <td>0.795055</td>\n      <td>0.652366</td>\n      <td>0.232958</td>\n    </tr>\n    <tr>\n      <th>16</th>\n      <td>0.778503</td>\n      <td>0.421675</td>\n      <td>0.172706</td>\n    </tr>\n    <tr>\n      <th>21</th>\n      <td>0.770754</td>\n      <td>0.269444</td>\n      <td>0.131911</td>\n    </tr>\n    <tr>\n      <th>28</th>\n      <td>0.753842</td>\n      <td>0.106198</td>\n      <td>0.103686</td>\n    </tr>\n    <tr>\n      <th>37</th>\n      <td>0.744869</td>\n      <td>0.010307</td>\n      <td>0.071231</td>\n    </tr>\n    <tr>\n      <th>49</th>\n      <td>0.740934</td>\n      <td>-0.115483</td>\n      <td>0.063263</td>\n    </tr>\n  </tbody>\n</table>\n</div>"
     },
     "execution_count": 50,
     "metadata": {},
     "output_type": "execute_result"
    }
   ],
   "source": [
    "results.groupby('rank')[ 'score', 'silhouete score', 'rmse'].mean()"
   ],
   "metadata": {
    "collapsed": false
   }
  },
  {
   "cell_type": "code",
   "execution_count": 7,
   "outputs": [
    {
     "data": {
      "text/plain": "array([[1.06678903e-05, 3.42638582e-02, 2.31732471e-02, ...,\n        4.73617586e-03, 1.62603968e-06, 0.00000000e+00],\n       [0.00000000e+00, 7.14200215e-02, 2.85565158e-03, ...,\n        9.99408837e-03, 0.00000000e+00, 0.00000000e+00],\n       [3.91867382e-04, 3.67319483e-02, 3.94592329e-03, ...,\n        2.65478844e-02, 5.95037386e-04, 2.12084600e-02],\n       ...,\n       [0.00000000e+00, 8.03240787e-02, 1.47509419e-02, ...,\n        0.00000000e+00, 0.00000000e+00, 6.42545950e-04],\n       [0.00000000e+00, 1.29196872e-01, 3.28424592e-02, ...,\n        0.00000000e+00, 0.00000000e+00, 7.25826035e-01],\n       [0.00000000e+00, 3.92825744e-02, 1.21713228e-01, ...,\n        3.00721854e-01, 0.00000000e+00, 0.00000000e+00]])"
     },
     "execution_count": 7,
     "metadata": {},
     "output_type": "execute_result"
    }
   ],
   "source": [
    "H"
   ],
   "metadata": {
    "collapsed": false
   }
  },
  {
   "cell_type": "code",
   "execution_count": 8,
   "outputs": [
    {
     "data": {
      "text/plain": "array([ 7,  9,  6, ..., 11,  7,  5])"
     },
     "execution_count": 8,
     "metadata": {},
     "output_type": "execute_result"
    }
   ],
   "source": [
    "np.argmax(H, axis=0)"
   ],
   "metadata": {
    "collapsed": false
   }
  },
  {
   "cell_type": "code",
   "execution_count": 9,
   "outputs": [
    {
     "data": {
      "text/plain": "array(['PortScan', 'DoS GoldenEye', 'DoS Hulk', ..., 'DoS GoldenEye',\n       'PortScan', 'DDoS'], dtype=object)"
     },
     "execution_count": 9,
     "metadata": {},
     "output_type": "execute_result"
    }
   ],
   "source": [
    "y"
   ],
   "metadata": {
    "collapsed": false
   }
  },
  {
   "cell_type": "code",
   "execution_count": null,
   "outputs": [],
   "source": [],
   "metadata": {
    "collapsed": false
   }
  }
 ],
 "metadata": {
  "kernelspec": {
   "display_name": "Python 3",
   "language": "python",
   "name": "python3"
  },
  "language_info": {
   "codemirror_mode": {
    "name": "ipython",
    "version": 2
   },
   "file_extension": ".py",
   "mimetype": "text/x-python",
   "name": "python",
   "nbconvert_exporter": "python",
   "pygments_lexer": "ipython2",
   "version": "2.7.6"
  }
 },
 "nbformat": 4,
 "nbformat_minor": 0
}
