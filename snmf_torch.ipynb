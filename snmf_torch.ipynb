{
 "cells": [
  {
   "cell_type": "code",
   "execution_count": null,
   "metadata": {
    "collapsed": true
   },
   "outputs": [],
   "source": [
    "import torch\n",
    "from sklearn import metrics\n",
    "from sklearn.cluster import KMeans\n",
    "from ssnmf.ssnmf import SSNMF_T\n",
    "from torch.utils.data import random_split\n",
    "\n",
    "from utils.logging import log\n",
    "from utils.process import prepare_df, data_tensors"
   ]
  },
  {
   "cell_type": "code",
   "execution_count": null,
   "outputs": [],
   "source": [
    "df = prepare_df()\n",
    "df = df[df['Label'] != 'BENIGN']"
   ],
   "metadata": {
    "collapsed": false
   }
  },
  {
   "cell_type": "code",
   "execution_count": null,
   "outputs": [],
   "source": [
    "\n",
    "\n",
    "device = torch.device('cuda') if torch.cuda.is_available() else torch.device('cpu')\n",
    "\n",
    "\n",
    "def get_Y_torch(X, y):\n",
    "    y_unique = torch.unique(y)\n",
    "    sample_size = X.shape[1]\n",
    "    Y = torch.zeros(y_unique.shape[0], sample_size, device=device)\n",
    "    for i in range(sample_size):\n",
    "        j = ((y_unique == y[i]).nonzero(as_tuple=True)[0])\n",
    "        Y[j, i] = 1\n",
    "    return Y\n",
    "\n",
    "\n",
    "def get_L_torch(Y, fraction_known=0.5):\n",
    "    L = torch.zeros(Y.shape, device=device)\n",
    "    m, n = L.shape\n",
    "    num_samples = int(fraction_known * n)\n",
    "    labeled_data = torch.randperm(n, dtype=torch.int32, device=device)[:num_samples]\n",
    "    for i in labeled_data:\n",
    "        L[:, i] = torch.tensor(1)\n",
    "    return L\n",
    "\n",
    "\n",
    "def split_L_idx(L, test_size=0.25):\n",
    "    sample_size = L.shape[1]\n",
    "    test_len = int(test_size * sample_size)\n",
    "    train_idx, test_idx = torch.utils.data.random_split(range(sample_size), [sample_size - test_len, test_len])\n",
    "    return train_idx, test_idx\n",
    "\n",
    "\n",
    "def get_L_train(L, test_idx):\n",
    "    L_train = torch.clone(L)\n",
    "    L_train[:, test_idx] = torch.tensor(0, dtype=torch.float32, device=device)\n",
    "    return L_train\n"
   ],
   "metadata": {
    "collapsed": false
   }
  },
  {
   "cell_type": "code",
   "execution_count": null,
   "outputs": [],
   "source": [
    "X, y = data_tensors(df)\n",
    "Y = get_Y_torch(X.T, y)\n",
    "fraction_known = 0.1\n",
    "k = 10\n",
    "L = get_L_torch(Y, fraction_known=fraction_known)\n",
    "snmf = SSNMF_T(X.T, k, L=L, Y=Y, lam=0.01 * torch.linalg.norm(X), modelNum=3)\n",
    "snmf.mult(numiters=10000)\n",
    "\n",
    "kmeans = KMeans(n_clusters=k, random_state=0).fit(snmf.S.T)\n",
    "rand_score = metrics.rand_score(y, kmeans.labels_)\n",
    "adujsted_rand_score = metrics.adjusted_rand_score(y, kmeans.labels_)\n",
    "print(rand_score)"
   ],
   "metadata": {
    "collapsed": false
   }
  }
 ],
 "metadata": {
  "kernelspec": {
   "display_name": "Python 3",
   "language": "python",
   "name": "python3"
  },
  "language_info": {
   "codemirror_mode": {
    "name": "ipython",
    "version": 2
   },
   "file_extension": ".py",
   "mimetype": "text/x-python",
   "name": "python",
   "nbconvert_exporter": "python",
   "pygments_lexer": "ipython2",
   "version": "2.7.6"
  }
 },
 "nbformat": 4,
 "nbformat_minor": 0
}
