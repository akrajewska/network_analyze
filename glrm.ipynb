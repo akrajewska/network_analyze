{
 "cells": [
  {
   "cell_type": "code",
   "execution_count": 1,
   "metadata": {
    "collapsed": true
   },
   "outputs": [
    {
     "name": "stderr",
     "output_type": "stream",
     "text": [
      "/home/tosia/.pyenv/versions/3.9.5/lib/python3.8/site-packages/GLRM-0.0.1-py3.8.egg/glrm/glrm.py:136: FutureWarning: arrays to stack must be passed as a \"sequence\" type such as list or tuple. Support for non-sequence iterables such as generators is deprecated as of NumPy 1.16 and will raise an error in the future.\n",
      "/home/tosia/.pyenv/versions/3.9.5/lib/python3.8/site-packages/cvxpy/expressions/expression.py:593: UserWarning: \n",
      "This use of ``*`` has resulted in matrix multiplication.\n",
      "Using ``*`` for matrix multiplication has been deprecated since CVXPY 1.1.\n",
      "    Use ``*`` for matrix-scalar and vector-scalar multiplication.\n",
      "    Use ``@`` for matrix-matrix and matrix-vector multiplication.\n",
      "    Use ``multiply`` for elementwise multiplication.\n",
      "This code path has been hit 1 times so far.\n",
      "\n",
      "  warnings.warn(msg, UserWarning)\n",
      "/home/tosia/.pyenv/versions/3.9.5/lib/python3.8/site-packages/cvxpy/expressions/expression.py:593: UserWarning: \n",
      "This use of ``*`` has resulted in matrix multiplication.\n",
      "Using ``*`` for matrix multiplication has been deprecated since CVXPY 1.1.\n",
      "    Use ``*`` for matrix-scalar and vector-scalar multiplication.\n",
      "    Use ``@`` for matrix-matrix and matrix-vector multiplication.\n",
      "    Use ``multiply`` for elementwise multiplication.\n",
      "This code path has been hit 2 times so far.\n",
      "\n",
      "  warnings.warn(msg, UserWarning)\n",
      "/home/tosia/.pyenv/versions/3.9.5/lib/python3.8/site-packages/cvxpy/expressions/expression.py:593: UserWarning: \n",
      "This use of ``*`` has resulted in matrix multiplication.\n",
      "Using ``*`` for matrix multiplication has been deprecated since CVXPY 1.1.\n",
      "    Use ``*`` for matrix-scalar and vector-scalar multiplication.\n",
      "    Use ``@`` for matrix-matrix and matrix-vector multiplication.\n",
      "    Use ``multiply`` for elementwise multiplication.\n",
      "This code path has been hit 3 times so far.\n",
      "\n",
      "  warnings.warn(msg, UserWarning)\n",
      "/home/tosia/.pyenv/versions/3.9.5/lib/python3.8/site-packages/cvxpy/problems/problem.py:1337: UserWarning: Solution may be inaccurate. Try another solver, adjusting the solver settings, or solve with verbose=True for more information.\n",
      "  warnings.warn(\n"
     ]
    },
    {
     "ename": "ParameterError",
     "evalue": "A Parameter (whose name is 'param3202') does not have a value associated with it; all Parameter objects must have values before solving a problem.",
     "output_type": "error",
     "traceback": [
      "\u001B[0;31m---------------------------------------------------------------------------\u001B[0m",
      "\u001B[0;31mParameterError\u001B[0m                            Traceback (most recent call last)",
      "Cell \u001B[0;32mIn [1], line 25\u001B[0m\n\u001B[1;32m     22\u001B[0m model \u001B[38;5;241m=\u001B[39m GLRM(A, loss, regX, regY, k, converge\u001B[38;5;241m=\u001B[39mc)\n\u001B[1;32m     24\u001B[0m \u001B[38;5;66;03m# Fit\u001B[39;00m\n\u001B[0;32m---> 25\u001B[0m \u001B[43mmodel\u001B[49m\u001B[38;5;241;43m.\u001B[39;49m\u001B[43mfit\u001B[49m\u001B[43m(\u001B[49m\u001B[43meps\u001B[49m\u001B[38;5;241;43m=\u001B[39;49m\u001B[38;5;241;43m1e-4\u001B[39;49m\u001B[43m,\u001B[49m\u001B[43m \u001B[49m\u001B[43mmax_iters\u001B[49m\u001B[43m \u001B[49m\u001B[38;5;241;43m=\u001B[39;49m\u001B[43m \u001B[49m\u001B[38;5;241;43m1000\u001B[39;49m\u001B[43m)\u001B[49m \u001B[38;5;66;03m# want more precision for hinge loss problem\u001B[39;00m\n\u001B[1;32m     27\u001B[0m \u001B[38;5;66;03m# Results\u001B[39;00m\n\u001B[1;32m     28\u001B[0m X, Y \u001B[38;5;241m=\u001B[39m model\u001B[38;5;241m.\u001B[39mfactors()\n",
      "File \u001B[0;32m~/.pyenv/versions/3.9.5/lib/python3.8/site-packages/GLRM-0.0.1-py3.8.egg/glrm/glrm.py:55\u001B[0m, in \u001B[0;36mGLRM.fit\u001B[0;34m(self, max_iters, eps, use_indirect, warm_start)\u001B[0m\n\u001B[1;32m     53\u001B[0m \u001B[38;5;66;03m# alternating minimization\u001B[39;00m\n\u001B[1;32m     54\u001B[0m \u001B[38;5;28;01mwhile\u001B[39;00m \u001B[38;5;129;01mnot\u001B[39;00m \u001B[38;5;28mself\u001B[39m\u001B[38;5;241m.\u001B[39mconverge\u001B[38;5;241m.\u001B[39md():\n\u001B[0;32m---> 55\u001B[0m     objX \u001B[38;5;241m=\u001B[39m \u001B[43mpX\u001B[49m\u001B[38;5;241;43m.\u001B[39;49m\u001B[43msolve\u001B[49m\u001B[43m(\u001B[49m\u001B[43msolver\u001B[49m\u001B[38;5;241;43m=\u001B[39;49m\u001B[43mcp\u001B[49m\u001B[38;5;241;43m.\u001B[39;49m\u001B[43mSCS\u001B[49m\u001B[43m,\u001B[49m\u001B[43m \u001B[49m\u001B[43meps\u001B[49m\u001B[38;5;241;43m=\u001B[39;49m\u001B[43meps\u001B[49m\u001B[43m,\u001B[49m\u001B[43m \u001B[49m\u001B[43mmax_iters\u001B[49m\u001B[38;5;241;43m=\u001B[39;49m\u001B[43mmax_iters\u001B[49m\u001B[43m,\u001B[49m\n\u001B[1;32m     56\u001B[0m \u001B[43m            \u001B[49m\u001B[43muse_indirect\u001B[49m\u001B[38;5;241;43m=\u001B[39;49m\u001B[43muse_indirect\u001B[49m\u001B[43m,\u001B[49m\u001B[43m \u001B[49m\u001B[43mwarm_start\u001B[49m\u001B[38;5;241;43m=\u001B[39;49m\u001B[43mwarm_start\u001B[49m\u001B[43m)\u001B[49m\n\u001B[1;32m     57\u001B[0m     Xp\u001B[38;5;241m.\u001B[39mvalue[:,:\u001B[38;5;241m-\u001B[39m\u001B[38;5;241m1\u001B[39m] \u001B[38;5;241m=\u001B[39m copy(Xv\u001B[38;5;241m.\u001B[39mvalue)\n\u001B[1;32m     59\u001B[0m     \u001B[38;5;66;03m# can parallelize this\u001B[39;00m\n",
      "File \u001B[0;32m~/.pyenv/versions/3.9.5/lib/python3.8/site-packages/cvxpy/problems/problem.py:481\u001B[0m, in \u001B[0;36mProblem.solve\u001B[0;34m(self, *args, **kwargs)\u001B[0m\n\u001B[1;32m    479\u001B[0m \u001B[38;5;28;01melse\u001B[39;00m:\n\u001B[1;32m    480\u001B[0m     solve_func \u001B[38;5;241m=\u001B[39m Problem\u001B[38;5;241m.\u001B[39m_solve\n\u001B[0;32m--> 481\u001B[0m \u001B[38;5;28;01mreturn\u001B[39;00m \u001B[43msolve_func\u001B[49m\u001B[43m(\u001B[49m\u001B[38;5;28;43mself\u001B[39;49m\u001B[43m,\u001B[49m\u001B[43m \u001B[49m\u001B[38;5;241;43m*\u001B[39;49m\u001B[43margs\u001B[49m\u001B[43m,\u001B[49m\u001B[43m \u001B[49m\u001B[38;5;241;43m*\u001B[39;49m\u001B[38;5;241;43m*\u001B[39;49m\u001B[43mkwargs\u001B[49m\u001B[43m)\u001B[49m\n",
      "File \u001B[0;32m~/.pyenv/versions/3.9.5/lib/python3.8/site-packages/cvxpy/problems/problem.py:932\u001B[0m, in \u001B[0;36mProblem._solve\u001B[0;34m(self, solver, warm_start, verbose, gp, qcp, requires_grad, enforce_dpp, ignore_dpp, **kwargs)\u001B[0m\n\u001B[1;32m    930\u001B[0m \u001B[38;5;28;01mfor\u001B[39;00m parameter \u001B[38;5;129;01min\u001B[39;00m \u001B[38;5;28mself\u001B[39m\u001B[38;5;241m.\u001B[39mparameters():\n\u001B[1;32m    931\u001B[0m     \u001B[38;5;28;01mif\u001B[39;00m parameter\u001B[38;5;241m.\u001B[39mvalue \u001B[38;5;129;01mis\u001B[39;00m \u001B[38;5;28;01mNone\u001B[39;00m:\n\u001B[0;32m--> 932\u001B[0m         \u001B[38;5;28;01mraise\u001B[39;00m error\u001B[38;5;241m.\u001B[39mParameterError(\n\u001B[1;32m    933\u001B[0m             \u001B[38;5;124m\"\u001B[39m\u001B[38;5;124mA Parameter (whose name is \u001B[39m\u001B[38;5;124m'\u001B[39m\u001B[38;5;132;01m%s\u001B[39;00m\u001B[38;5;124m'\u001B[39m\u001B[38;5;124m) does not have a value \u001B[39m\u001B[38;5;124m\"\u001B[39m\n\u001B[1;32m    934\u001B[0m             \u001B[38;5;124m\"\u001B[39m\u001B[38;5;124massociated with it; all Parameter objects must have \u001B[39m\u001B[38;5;124m\"\u001B[39m\n\u001B[1;32m    935\u001B[0m             \u001B[38;5;124m\"\u001B[39m\u001B[38;5;124mvalues before solving a problem.\u001B[39m\u001B[38;5;124m\"\u001B[39m \u001B[38;5;241m%\u001B[39m parameter\u001B[38;5;241m.\u001B[39mname())\n\u001B[1;32m    937\u001B[0m \u001B[38;5;28;01mif\u001B[39;00m verbose:\n\u001B[1;32m    938\u001B[0m     n_variables \u001B[38;5;241m=\u001B[39m \u001B[38;5;28msum\u001B[39m(np\u001B[38;5;241m.\u001B[39mprod(v\u001B[38;5;241m.\u001B[39mshape) \u001B[38;5;28;01mfor\u001B[39;00m v \u001B[38;5;129;01min\u001B[39;00m \u001B[38;5;28mself\u001B[39m\u001B[38;5;241m.\u001B[39mvariables())\n",
      "\u001B[0;31mParameterError\u001B[0m: A Parameter (whose name is 'param3202') does not have a value associated with it; all Parameter objects must have values before solving a problem."
     ]
    }
   ],
   "source": [
    "from glrm.loss import HingeLoss\n",
    "from glrm.reg import NonnegativeReg, QuadraticReg\n",
    "from glrm import GLRM\n",
    "from glrm.util import pplot\n",
    "from glrm.convergence import Convergence\n",
    "from numpy.random import randn, choice, seed\n",
    "from numpy.random import choice\n",
    "from itertools import product\n",
    "from numpy import sign\n",
    "\n",
    "# Generate problem data\n",
    "m, n, k = 100, 100, 10\n",
    "eta = 0.1 # noise power\n",
    "X_true, Y_true = randn(m,k), randn(k,n)\n",
    "data = sign(X_true.dot(Y_true) + eta*randn(m,n)) # noisy rank k\n",
    "\n",
    "# Initialize model\n",
    "A = data\n",
    "loss = HingeLoss\n",
    "regX, regY = QuadraticReg(0.01), QuadraticReg(0.01)\n",
    "c = Convergence(TOL=1e-2)\n",
    "model = GLRM(A, loss, regX, regY, k, converge=c)\n",
    "\n",
    "# Fit\n",
    "model.fit(eps=1e-4, max_iters = 1000) # want more precision for hinge loss problem\n",
    "\n",
    "# Results\n",
    "X, Y = model.factors()\n",
    "A_hat = model.predict() # glrm_pca.predict(X, Y) works too; returns decode(XY)\n",
    "ch = model.convergence() # convergence history\n",
    "pplot([A, A_hat, A - A_hat], [\"original\", \"glrm\", \"error\"])\n",
    "#\n",
    "# # Now with missing data\n",
    "# missing = list(product(range(int(0.25*m), int(0.75*m)), range(int(0.25*n), int(0.75*n))))\n",
    "# glrm_nn_missing = GLRM(A, loss, regX, regY, k, missing)\n",
    "# glrm_nn_missing.fit()\n",
    "# A_hat = glrm_nn_missing.predict()\n",
    "# pplot([A, missing, A_hat, A - A_hat], \\\n",
    "#         [\"original\", \"missing\", \"glrm\", \"error\"])\n",
    "#\n"
   ]
  },
  {
   "cell_type": "code",
   "execution_count": null,
   "outputs": [],
   "source": [],
   "metadata": {
    "collapsed": false
   }
  },
  {
   "cell_type": "code",
   "execution_count": null,
   "outputs": [],
   "source": [],
   "metadata": {
    "collapsed": false
   }
  }
 ],
 "metadata": {
  "kernelspec": {
   "display_name": "Python 3",
   "language": "python",
   "name": "python3"
  },
  "language_info": {
   "codemirror_mode": {
    "name": "ipython",
    "version": 2
   },
   "file_extension": ".py",
   "mimetype": "text/x-python",
   "name": "python",
   "nbconvert_exporter": "python",
   "pygments_lexer": "ipython2",
   "version": "2.7.6"
  }
 },
 "nbformat": 4,
 "nbformat_minor": 0
}
