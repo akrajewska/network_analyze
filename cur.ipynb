{
 "cells": [
  {
   "cell_type": "code",
   "execution_count": 140,
   "metadata": {
    "collapsed": true
   },
   "outputs": [],
   "source": [
    "from pathlib import Path\n",
    "import pandas as pd\n",
    "\n",
    "DATA_DIR = Path('DATA')\n",
    "dfile = DATA_DIR/'Tuesday-WorkingHours.pcap_ISCX.csv'\n",
    "\n",
    "pd.concat((pd.read_csv(DATA_DIR/f) for f in ['Tuesday-WorkingHours.pcap_ISCX.csv', 'Friday-WorkingHours-Afternoon-DDos.pcap_ISCX.csv' ]), ignore_index=True)\n",
    "#dfile = DATA_DIR / '-WorkingHours.pcap_ISCX.csv'\n",
    "df = pd.read_csv(dfile, index_col=False)\n",
    "df = df.rename(columns=lambda x: x.strip())"
   ]
  },
  {
   "cell_type": "code",
   "execution_count": 141,
   "outputs": [],
   "source": [
    "QUANT_COLS =  ['Flow Duration',\n",
    "       'Total Fwd Packets', 'Total Backward Packets',\n",
    "       'Total Length of Fwd Packets', 'Total Length of Bwd Packets',\n",
    "       'Fwd Packet Length Max', 'Fwd Packet Length Min',\n",
    "       'Fwd Packet Length Mean', 'Fwd Packet Length Std',\n",
    "       'Bwd Packet Length Max', 'Bwd Packet Length Min',\n",
    "       'Bwd Packet Length Mean', 'Bwd Packet Length Std', 'Flow Bytes/s',\n",
    "       'Flow Packets/s', 'Flow IAT Mean', 'Flow IAT Std', 'Flow IAT Max',\n",
    "       'Flow IAT Min', 'Fwd IAT Total', 'Fwd IAT Mean', 'Fwd IAT Std',\n",
    "       'Fwd IAT Max', 'Fwd IAT Min', 'Bwd IAT Total', 'Bwd IAT Mean',\n",
    "       'Bwd IAT Std', 'Bwd IAT Max', 'Bwd IAT Min', 'Fwd PSH Flags',\n",
    "       'Bwd PSH Flags', 'Fwd URG Flags', 'Bwd URG Flags', 'Fwd Header Length',\n",
    "       'Bwd Header Length', 'Fwd Packets/s', 'Bwd Packets/s',\n",
    "       'Min Packet Length', 'Max Packet Length', 'Packet Length Mean',\n",
    "       'Packet Length Std', 'Packet Length Variance', 'FIN Flag Count',   'SYN Flag Count', 'RST Flag Count', 'PSH Flag Count', 'ACK Flag Count',\n",
    "       'URG Flag Count', 'CWE Flag Count', 'ECE Flag Count', 'Down/Up Ratio',\n",
    "       'Average Packet Size', 'Avg Fwd Segment Size', 'Avg Bwd Segment Size',\n",
    "       'Fwd Header Length.1', 'Fwd Avg Bytes/Bulk', 'Fwd Avg Packets/Bulk',\n",
    "       'Fwd Avg Bulk Rate', 'Bwd Avg Bytes/Bulk', 'Bwd Avg Packets/Bulk',\n",
    "       'Bwd Avg Bulk Rate', 'Subflow Fwd Packets', 'Subflow Fwd Bytes',\n",
    "       'Subflow Bwd Packets', 'Subflow Bwd Bytes', 'Init_Win_bytes_forward',\n",
    "       'Init_Win_bytes_backward', 'act_data_pkt_fwd', 'min_seg_size_forward','Active Mean', 'Active Std', 'Active Max', 'Active Min', 'Idle Mean',\n",
    "       'Idle Std', 'Idle Max', 'Idle Min']"
   ],
   "metadata": {
    "collapsed": false
   }
  },
  {
   "cell_type": "code",
   "execution_count": 132,
   "outputs": [
    {
     "name": "stderr",
     "output_type": "stream",
     "text": [
      "/tmp/ipykernel_16194/121367529.py:7: FutureWarning: In a future version of pandas all arguments of DataFrame.any and Series.any will be keyword-only.\n",
      "  df = df[~df.isin([np.nan, np.inf, -np.inf]).any(1)]\n"
     ]
    }
   ],
   "source": [
    "from sklearn.model_selection import train_test_split\n",
    "import numpy as np\n",
    "\n",
    "#df = df[(df['Label'] == 'FTP-Patator')]\n",
    "df = df[QUANT_COLS + ['Label']]\n",
    "\n",
    "df = df[~df.isin([np.nan, np.inf, -np.inf]).any(1)]\n",
    "X_train, X_test, y_train, y_test = train_test_split(df.drop([\"Label\"], axis=1), df[\"Label\"], test_size=1 / 3)"
   ],
   "metadata": {
    "collapsed": false
   }
  },
  {
   "cell_type": "code",
   "execution_count": 116,
   "outputs": [
    {
     "data": {
      "text/plain": "SelectFromModel(estimator=RandomForestClassifier(n_estimators=200))"
     },
     "execution_count": 116,
     "metadata": {},
     "output_type": "execute_result"
    }
   ],
   "source": [
    "import pandas as pd\n",
    "from sklearn.ensemble import RandomForestClassifier\n",
    "from sklearn.feature_selection import SelectFromModel\n",
    "sel = SelectFromModel(RandomForestClassifier(n_estimators = 200))\n",
    "sel.fit(X_train, y_train)\n"
   ],
   "metadata": {
    "collapsed": false
   }
  },
  {
   "cell_type": "code",
   "execution_count": 117,
   "outputs": [
    {
     "data": {
      "text/plain": "array(['Total Backward Packets', 'Total Length of Fwd Packets',\n       'Total Length of Bwd Packets', 'Fwd Packet Length Max',\n       'Fwd Packet Length Mean', 'Fwd Packet Length Std',\n       'Bwd Packet Length Max', 'Bwd Packet Length Mean',\n       'Bwd Packet Length Std', 'Flow IAT Max', 'Fwd PSH Flags',\n       'Fwd Header Length', 'Bwd Header Length', 'Max Packet Length',\n       'Packet Length Mean', 'Packet Length Std',\n       'Packet Length Variance', 'SYN Flag Count', 'Average Packet Size',\n       'Avg Fwd Segment Size', 'Avg Bwd Segment Size',\n       'Subflow Fwd Bytes', 'Subflow Bwd Packets', 'Subflow Bwd Bytes',\n       'Init_Win_bytes_forward', 'Init_Win_bytes_backward',\n       'act_data_pkt_fwd'], dtype='<U27')"
     },
     "execution_count": 117,
     "metadata": {},
     "output_type": "execute_result"
    }
   ],
   "source": [
    "np.array(QUANT_COLS[:-1])[np.array(sel.get_support())]"
   ],
   "metadata": {
    "collapsed": false
   }
  },
  {
   "cell_type": "code",
   "execution_count": 145,
   "outputs": [],
   "source": [
    "from cur import cur_decomposition\n",
    "import numpy as np\n",
    "df = df[QUANT_COLS]\n",
    "M = df.to_numpy()\n",
    "M = M[~np.isnan(M).any(axis=1), :]\n",
    "M = M[~np.isinf(M).any(axis=1), :]\n",
    "\n",
    "C, U, R, c_idx = cur_decomposition(M, 40)"
   ],
   "metadata": {
    "collapsed": false
   }
  },
  {
   "cell_type": "code",
   "execution_count": 147,
   "outputs": [
    {
     "data": {
      "text/plain": "array(['Bwd IAT Total', 'Flow Bytes/s', 'Flow Duration', 'Flow IAT Max',\n       'Fwd Header Length', 'Fwd Header Length.1', 'Fwd IAT Max',\n       'Fwd IAT Total', 'Idle Min'], dtype='<U27')"
     },
     "execution_count": 147,
     "metadata": {},
     "output_type": "execute_result"
    }
   ],
   "source": [
    "np.unique(np.array(QUANT_COLS)[np.array(c_idx)])"
   ],
   "metadata": {
    "collapsed": false
   }
  },
  {
   "cell_type": "code",
   "execution_count": 148,
   "outputs": [
    {
     "data": {
      "text/plain": "77"
     },
     "execution_count": 148,
     "metadata": {},
     "output_type": "execute_result"
    }
   ],
   "source": [
    "len(QUANT_COLS)"
   ],
   "metadata": {
    "collapsed": false
   }
  },
  {
   "cell_type": "code",
   "execution_count": null,
   "outputs": [],
   "source": [],
   "metadata": {
    "collapsed": false
   }
  }
 ],
 "metadata": {
  "kernelspec": {
   "display_name": "Python 3",
   "language": "python",
   "name": "python3"
  },
  "language_info": {
   "codemirror_mode": {
    "name": "ipython",
    "version": 2
   },
   "file_extension": ".py",
   "mimetype": "text/x-python",
   "name": "python",
   "nbconvert_exporter": "python",
   "pygments_lexer": "ipython2",
   "version": "2.7.6"
  }
 },
 "nbformat": 4,
 "nbformat_minor": 0
}
